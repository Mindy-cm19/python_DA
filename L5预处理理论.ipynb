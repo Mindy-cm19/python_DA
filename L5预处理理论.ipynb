{
 "cells": [
  {
   "cell_type": "markdown",
   "metadata": {},
   "source": [
    "## 异常值处理\n",
    "<img src='./image/5.3.png' width=400 div align=left />  \n",
    "还可以填充、插值等。"
   ]
  },
  {
   "cell_type": "code",
   "execution_count": 1,
   "metadata": {},
   "outputs": [],
   "source": [
    "import numpy as np\n",
    "import pandas as pd"
   ]
  },
  {
   "cell_type": "code",
   "execution_count": 2,
   "metadata": {},
   "outputs": [
    {
     "data": {
      "text/html": [
       "<div>\n",
       "<style>\n",
       "    .dataframe thead tr:only-child th {\n",
       "        text-align: right;\n",
       "    }\n",
       "\n",
       "    .dataframe thead th {\n",
       "        text-align: left;\n",
       "    }\n",
       "\n",
       "    .dataframe tbody tr th {\n",
       "        vertical-align: top;\n",
       "    }\n",
       "</style>\n",
       "<table border=\"1\" class=\"dataframe\">\n",
       "  <thead>\n",
       "    <tr style=\"text-align: right;\">\n",
       "      <th></th>\n",
       "      <th>A</th>\n",
       "      <th>B</th>\n",
       "      <th>C</th>\n",
       "      <th>D</th>\n",
       "      <th>E</th>\n",
       "      <th>F</th>\n",
       "    </tr>\n",
       "  </thead>\n",
       "  <tbody>\n",
       "    <tr>\n",
       "      <th>0</th>\n",
       "      <td>a0</td>\n",
       "      <td>b0</td>\n",
       "      <td>1.0</td>\n",
       "      <td>0.1</td>\n",
       "      <td>10.0</td>\n",
       "      <td>f0</td>\n",
       "    </tr>\n",
       "    <tr>\n",
       "      <th>1</th>\n",
       "      <td>a1</td>\n",
       "      <td>b1</td>\n",
       "      <td>2.0</td>\n",
       "      <td>10.2</td>\n",
       "      <td>19.0</td>\n",
       "      <td>f1</td>\n",
       "    </tr>\n",
       "    <tr>\n",
       "      <th>2</th>\n",
       "      <td>a1</td>\n",
       "      <td>b2</td>\n",
       "      <td>NaN</td>\n",
       "      <td>11.4</td>\n",
       "      <td>32.0</td>\n",
       "      <td>g2</td>\n",
       "    </tr>\n",
       "    <tr>\n",
       "      <th>3</th>\n",
       "      <td>a2</td>\n",
       "      <td>b2</td>\n",
       "      <td>3.0</td>\n",
       "      <td>8.9</td>\n",
       "      <td>25.0</td>\n",
       "      <td>f3</td>\n",
       "    </tr>\n",
       "    <tr>\n",
       "      <th>4</th>\n",
       "      <td>a3</td>\n",
       "      <td>b3</td>\n",
       "      <td>4.0</td>\n",
       "      <td>9.1</td>\n",
       "      <td>8.0</td>\n",
       "      <td>f4</td>\n",
       "    </tr>\n",
       "    <tr>\n",
       "      <th>5</th>\n",
       "      <td>a4</td>\n",
       "      <td>None</td>\n",
       "      <td>5.0</td>\n",
       "      <td>12.0</td>\n",
       "      <td>NaN</td>\n",
       "      <td>f5</td>\n",
       "    </tr>\n",
       "  </tbody>\n",
       "</table>\n",
       "</div>"
      ],
      "text/plain": [
       "    A     B    C     D     E   F\n",
       "0  a0    b0  1.0   0.1  10.0  f0\n",
       "1  a1    b1  2.0  10.2  19.0  f1\n",
       "2  a1    b2  NaN  11.4  32.0  g2\n",
       "3  a2    b2  3.0   8.9  25.0  f3\n",
       "4  a3    b3  4.0   9.1   8.0  f4\n",
       "5  a4  None  5.0  12.0   NaN  f5"
      ]
     },
     "execution_count": 2,
     "metadata": {},
     "output_type": "execute_result"
    }
   ],
   "source": [
    "df=pd.DataFrame({'A':['a0','a1','a1','a2','a3','a4'],\n",
    "                 'B':['b0','b1','b2','b2','b3',None],\n",
    "                 'C':[1,2,None,3,4,5],\n",
    "                 'D':[0.1,10.2,11.4,8.9,9.1,12],\n",
    "                 'E':[10,19,32,25,8,None],\n",
    "                 'F':['f0','f1','g2','f3','f4','f5']})\n",
    "df"
   ]
  },
  {
   "cell_type": "code",
   "execution_count": 3,
   "metadata": {},
   "outputs": [
    {
     "data": {
      "text/html": [
       "<div>\n",
       "<style>\n",
       "    .dataframe thead tr:only-child th {\n",
       "        text-align: right;\n",
       "    }\n",
       "\n",
       "    .dataframe thead th {\n",
       "        text-align: left;\n",
       "    }\n",
       "\n",
       "    .dataframe tbody tr th {\n",
       "        vertical-align: top;\n",
       "    }\n",
       "</style>\n",
       "<table border=\"1\" class=\"dataframe\">\n",
       "  <thead>\n",
       "    <tr style=\"text-align: right;\">\n",
       "      <th></th>\n",
       "      <th>A</th>\n",
       "      <th>B</th>\n",
       "      <th>C</th>\n",
       "      <th>D</th>\n",
       "      <th>E</th>\n",
       "      <th>F</th>\n",
       "    </tr>\n",
       "  </thead>\n",
       "  <tbody>\n",
       "    <tr>\n",
       "      <th>0</th>\n",
       "      <td>False</td>\n",
       "      <td>False</td>\n",
       "      <td>False</td>\n",
       "      <td>False</td>\n",
       "      <td>False</td>\n",
       "      <td>False</td>\n",
       "    </tr>\n",
       "    <tr>\n",
       "      <th>1</th>\n",
       "      <td>False</td>\n",
       "      <td>False</td>\n",
       "      <td>False</td>\n",
       "      <td>False</td>\n",
       "      <td>False</td>\n",
       "      <td>False</td>\n",
       "    </tr>\n",
       "    <tr>\n",
       "      <th>2</th>\n",
       "      <td>False</td>\n",
       "      <td>False</td>\n",
       "      <td>True</td>\n",
       "      <td>False</td>\n",
       "      <td>False</td>\n",
       "      <td>False</td>\n",
       "    </tr>\n",
       "    <tr>\n",
       "      <th>3</th>\n",
       "      <td>False</td>\n",
       "      <td>False</td>\n",
       "      <td>False</td>\n",
       "      <td>False</td>\n",
       "      <td>False</td>\n",
       "      <td>False</td>\n",
       "    </tr>\n",
       "    <tr>\n",
       "      <th>4</th>\n",
       "      <td>False</td>\n",
       "      <td>False</td>\n",
       "      <td>False</td>\n",
       "      <td>False</td>\n",
       "      <td>False</td>\n",
       "      <td>False</td>\n",
       "    </tr>\n",
       "    <tr>\n",
       "      <th>5</th>\n",
       "      <td>False</td>\n",
       "      <td>True</td>\n",
       "      <td>False</td>\n",
       "      <td>False</td>\n",
       "      <td>True</td>\n",
       "      <td>False</td>\n",
       "    </tr>\n",
       "  </tbody>\n",
       "</table>\n",
       "</div>"
      ],
      "text/plain": [
       "       A      B      C      D      E      F\n",
       "0  False  False  False  False  False  False\n",
       "1  False  False  False  False  False  False\n",
       "2  False  False   True  False  False  False\n",
       "3  False  False  False  False  False  False\n",
       "4  False  False  False  False  False  False\n",
       "5  False   True  False  False   True  False"
      ]
     },
     "execution_count": 3,
     "metadata": {},
     "output_type": "execute_result"
    }
   ],
   "source": [
    "df.isnull()"
   ]
  },
  {
   "cell_type": "code",
   "execution_count": 4,
   "metadata": {},
   "outputs": [
    {
     "data": {
      "text/html": [
       "<div>\n",
       "<style>\n",
       "    .dataframe thead tr:only-child th {\n",
       "        text-align: right;\n",
       "    }\n",
       "\n",
       "    .dataframe thead th {\n",
       "        text-align: left;\n",
       "    }\n",
       "\n",
       "    .dataframe tbody tr th {\n",
       "        vertical-align: top;\n",
       "    }\n",
       "</style>\n",
       "<table border=\"1\" class=\"dataframe\">\n",
       "  <thead>\n",
       "    <tr style=\"text-align: right;\">\n",
       "      <th></th>\n",
       "      <th>A</th>\n",
       "      <th>B</th>\n",
       "      <th>C</th>\n",
       "      <th>D</th>\n",
       "      <th>E</th>\n",
       "      <th>F</th>\n",
       "    </tr>\n",
       "  </thead>\n",
       "  <tbody>\n",
       "    <tr>\n",
       "      <th>0</th>\n",
       "      <td>a0</td>\n",
       "      <td>b0</td>\n",
       "      <td>1.0</td>\n",
       "      <td>0.1</td>\n",
       "      <td>10.0</td>\n",
       "      <td>f0</td>\n",
       "    </tr>\n",
       "    <tr>\n",
       "      <th>1</th>\n",
       "      <td>a1</td>\n",
       "      <td>b1</td>\n",
       "      <td>2.0</td>\n",
       "      <td>10.2</td>\n",
       "      <td>19.0</td>\n",
       "      <td>f1</td>\n",
       "    </tr>\n",
       "    <tr>\n",
       "      <th>3</th>\n",
       "      <td>a2</td>\n",
       "      <td>b2</td>\n",
       "      <td>3.0</td>\n",
       "      <td>8.9</td>\n",
       "      <td>25.0</td>\n",
       "      <td>f3</td>\n",
       "    </tr>\n",
       "    <tr>\n",
       "      <th>4</th>\n",
       "      <td>a3</td>\n",
       "      <td>b3</td>\n",
       "      <td>4.0</td>\n",
       "      <td>9.1</td>\n",
       "      <td>8.0</td>\n",
       "      <td>f4</td>\n",
       "    </tr>\n",
       "  </tbody>\n",
       "</table>\n",
       "</div>"
      ],
      "text/plain": [
       "    A   B    C     D     E   F\n",
       "0  a0  b0  1.0   0.1  10.0  f0\n",
       "1  a1  b1  2.0  10.2  19.0  f1\n",
       "3  a2  b2  3.0   8.9  25.0  f3\n",
       "4  a3  b3  4.0   9.1   8.0  f4"
      ]
     },
     "execution_count": 4,
     "metadata": {},
     "output_type": "execute_result"
    }
   ],
   "source": [
    "# 去掉空值行\n",
    "df.dropna()"
   ]
  },
  {
   "cell_type": "code",
   "execution_count": 6,
   "metadata": {},
   "outputs": [
    {
     "data": {
      "text/html": [
       "<div>\n",
       "<style>\n",
       "    .dataframe thead tr:only-child th {\n",
       "        text-align: right;\n",
       "    }\n",
       "\n",
       "    .dataframe thead th {\n",
       "        text-align: left;\n",
       "    }\n",
       "\n",
       "    .dataframe tbody tr th {\n",
       "        vertical-align: top;\n",
       "    }\n",
       "</style>\n",
       "<table border=\"1\" class=\"dataframe\">\n",
       "  <thead>\n",
       "    <tr style=\"text-align: right;\">\n",
       "      <th></th>\n",
       "      <th>A</th>\n",
       "      <th>B</th>\n",
       "      <th>C</th>\n",
       "      <th>D</th>\n",
       "      <th>E</th>\n",
       "      <th>F</th>\n",
       "    </tr>\n",
       "  </thead>\n",
       "  <tbody>\n",
       "    <tr>\n",
       "      <th>0</th>\n",
       "      <td>a0</td>\n",
       "      <td>b0</td>\n",
       "      <td>1.0</td>\n",
       "      <td>0.1</td>\n",
       "      <td>10.0</td>\n",
       "      <td>f0</td>\n",
       "    </tr>\n",
       "    <tr>\n",
       "      <th>1</th>\n",
       "      <td>a1</td>\n",
       "      <td>b1</td>\n",
       "      <td>2.0</td>\n",
       "      <td>10.2</td>\n",
       "      <td>19.0</td>\n",
       "      <td>f1</td>\n",
       "    </tr>\n",
       "    <tr>\n",
       "      <th>2</th>\n",
       "      <td>a1</td>\n",
       "      <td>b2</td>\n",
       "      <td>NaN</td>\n",
       "      <td>11.4</td>\n",
       "      <td>32.0</td>\n",
       "      <td>g2</td>\n",
       "    </tr>\n",
       "    <tr>\n",
       "      <th>3</th>\n",
       "      <td>a2</td>\n",
       "      <td>b2</td>\n",
       "      <td>3.0</td>\n",
       "      <td>8.9</td>\n",
       "      <td>25.0</td>\n",
       "      <td>f3</td>\n",
       "    </tr>\n",
       "    <tr>\n",
       "      <th>4</th>\n",
       "      <td>a3</td>\n",
       "      <td>b3</td>\n",
       "      <td>4.0</td>\n",
       "      <td>9.1</td>\n",
       "      <td>8.0</td>\n",
       "      <td>f4</td>\n",
       "    </tr>\n",
       "  </tbody>\n",
       "</table>\n",
       "</div>"
      ],
      "text/plain": [
       "    A   B    C     D     E   F\n",
       "0  a0  b0  1.0   0.1  10.0  f0\n",
       "1  a1  b1  2.0  10.2  19.0  f1\n",
       "2  a1  b2  NaN  11.4  32.0  g2\n",
       "3  a2  b2  3.0   8.9  25.0  f3\n",
       "4  a3  b3  4.0   9.1   8.0  f4"
      ]
     },
     "execution_count": 6,
     "metadata": {},
     "output_type": "execute_result"
    }
   ],
   "source": [
    "# 去掉所有B列为空值的行\n",
    "df.dropna(subset=['B'])"
   ]
  },
  {
   "cell_type": "code",
   "execution_count": 7,
   "metadata": {},
   "outputs": [
    {
     "data": {
      "text/plain": [
       "0    False\n",
       "1    False\n",
       "2     True\n",
       "3    False\n",
       "4    False\n",
       "5    False\n",
       "dtype: bool"
      ]
     },
     "execution_count": 7,
     "metadata": {},
     "output_type": "execute_result"
    }
   ],
   "source": [
    "# 重复值识别\n",
    "df.duplicated(['A'])"
   ]
  },
  {
   "cell_type": "code",
   "execution_count": 8,
   "metadata": {},
   "outputs": [
    {
     "data": {
      "text/plain": [
       "0    False\n",
       "1    False\n",
       "2    False\n",
       "3    False\n",
       "4    False\n",
       "5    False\n",
       "dtype: bool"
      ]
     },
     "execution_count": 8,
     "metadata": {},
     "output_type": "execute_result"
    }
   ],
   "source": [
    "# 如果填入两列，那么必须两列合起来都是重合的才算重合\n",
    "df.duplicated(['A','B'])  "
   ]
  },
  {
   "cell_type": "code",
   "execution_count": 9,
   "metadata": {},
   "outputs": [
    {
     "data": {
      "text/html": [
       "<div>\n",
       "<style>\n",
       "    .dataframe thead tr:only-child th {\n",
       "        text-align: right;\n",
       "    }\n",
       "\n",
       "    .dataframe thead th {\n",
       "        text-align: left;\n",
       "    }\n",
       "\n",
       "    .dataframe tbody tr th {\n",
       "        vertical-align: top;\n",
       "    }\n",
       "</style>\n",
       "<table border=\"1\" class=\"dataframe\">\n",
       "  <thead>\n",
       "    <tr style=\"text-align: right;\">\n",
       "      <th></th>\n",
       "      <th>A</th>\n",
       "      <th>B</th>\n",
       "      <th>C</th>\n",
       "      <th>D</th>\n",
       "      <th>E</th>\n",
       "      <th>F</th>\n",
       "    </tr>\n",
       "  </thead>\n",
       "  <tbody>\n",
       "    <tr>\n",
       "      <th>0</th>\n",
       "      <td>a0</td>\n",
       "      <td>b0</td>\n",
       "      <td>1.0</td>\n",
       "      <td>0.1</td>\n",
       "      <td>10.0</td>\n",
       "      <td>f0</td>\n",
       "    </tr>\n",
       "    <tr>\n",
       "      <th>1</th>\n",
       "      <td>a1</td>\n",
       "      <td>b1</td>\n",
       "      <td>2.0</td>\n",
       "      <td>10.2</td>\n",
       "      <td>19.0</td>\n",
       "      <td>f1</td>\n",
       "    </tr>\n",
       "    <tr>\n",
       "      <th>3</th>\n",
       "      <td>a2</td>\n",
       "      <td>b2</td>\n",
       "      <td>3.0</td>\n",
       "      <td>8.9</td>\n",
       "      <td>25.0</td>\n",
       "      <td>f3</td>\n",
       "    </tr>\n",
       "    <tr>\n",
       "      <th>4</th>\n",
       "      <td>a3</td>\n",
       "      <td>b3</td>\n",
       "      <td>4.0</td>\n",
       "      <td>9.1</td>\n",
       "      <td>8.0</td>\n",
       "      <td>f4</td>\n",
       "    </tr>\n",
       "    <tr>\n",
       "      <th>5</th>\n",
       "      <td>a4</td>\n",
       "      <td>None</td>\n",
       "      <td>5.0</td>\n",
       "      <td>12.0</td>\n",
       "      <td>NaN</td>\n",
       "      <td>f5</td>\n",
       "    </tr>\n",
       "  </tbody>\n",
       "</table>\n",
       "</div>"
      ],
      "text/plain": [
       "    A     B    C     D     E   F\n",
       "0  a0    b0  1.0   0.1  10.0  f0\n",
       "1  a1    b1  2.0  10.2  19.0  f1\n",
       "3  a2    b2  3.0   8.9  25.0  f3\n",
       "4  a3    b3  4.0   9.1   8.0  f4\n",
       "5  a4  None  5.0  12.0   NaN  f5"
      ]
     },
     "execution_count": 9,
     "metadata": {},
     "output_type": "execute_result"
    }
   ],
   "source": [
    "df.drop_duplicates(['A'])"
   ]
  },
  {
   "cell_type": "code",
   "execution_count": 10,
   "metadata": {},
   "outputs": [
    {
     "data": {
      "text/html": [
       "<div>\n",
       "<style>\n",
       "    .dataframe thead tr:only-child th {\n",
       "        text-align: right;\n",
       "    }\n",
       "\n",
       "    .dataframe thead th {\n",
       "        text-align: left;\n",
       "    }\n",
       "\n",
       "    .dataframe tbody tr th {\n",
       "        vertical-align: top;\n",
       "    }\n",
       "</style>\n",
       "<table border=\"1\" class=\"dataframe\">\n",
       "  <thead>\n",
       "    <tr style=\"text-align: right;\">\n",
       "      <th></th>\n",
       "      <th>A</th>\n",
       "      <th>B</th>\n",
       "      <th>C</th>\n",
       "      <th>D</th>\n",
       "      <th>E</th>\n",
       "      <th>F</th>\n",
       "    </tr>\n",
       "  </thead>\n",
       "  <tbody>\n",
       "    <tr>\n",
       "      <th>0</th>\n",
       "      <td>a0</td>\n",
       "      <td>b0</td>\n",
       "      <td>1.0</td>\n",
       "      <td>0.1</td>\n",
       "      <td>10.0</td>\n",
       "      <td>f0</td>\n",
       "    </tr>\n",
       "    <tr>\n",
       "      <th>1</th>\n",
       "      <td>a1</td>\n",
       "      <td>b1</td>\n",
       "      <td>2.0</td>\n",
       "      <td>10.2</td>\n",
       "      <td>19.0</td>\n",
       "      <td>f1</td>\n",
       "    </tr>\n",
       "    <tr>\n",
       "      <th>3</th>\n",
       "      <td>a2</td>\n",
       "      <td>b2</td>\n",
       "      <td>3.0</td>\n",
       "      <td>8.9</td>\n",
       "      <td>25.0</td>\n",
       "      <td>f3</td>\n",
       "    </tr>\n",
       "    <tr>\n",
       "      <th>4</th>\n",
       "      <td>a3</td>\n",
       "      <td>b3</td>\n",
       "      <td>4.0</td>\n",
       "      <td>9.1</td>\n",
       "      <td>8.0</td>\n",
       "      <td>f4</td>\n",
       "    </tr>\n",
       "    <tr>\n",
       "      <th>5</th>\n",
       "      <td>a4</td>\n",
       "      <td>None</td>\n",
       "      <td>5.0</td>\n",
       "      <td>12.0</td>\n",
       "      <td>NaN</td>\n",
       "      <td>f5</td>\n",
       "    </tr>\n",
       "  </tbody>\n",
       "</table>\n",
       "</div>"
      ],
      "text/plain": [
       "    A     B    C     D     E   F\n",
       "0  a0    b0  1.0   0.1  10.0  f0\n",
       "1  a1    b1  2.0  10.2  19.0  f1\n",
       "3  a2    b2  3.0   8.9  25.0  f3\n",
       "4  a3    b3  4.0   9.1   8.0  f4\n",
       "5  a4  None  5.0  12.0   NaN  f5"
      ]
     },
     "execution_count": 10,
     "metadata": {},
     "output_type": "execute_result"
    }
   ],
   "source": [
    "df.drop_duplicates(['A'],keep='first')"
   ]
  },
  {
   "cell_type": "code",
   "execution_count": 11,
   "metadata": {},
   "outputs": [
    {
     "data": {
      "text/html": [
       "<div>\n",
       "<style>\n",
       "    .dataframe thead tr:only-child th {\n",
       "        text-align: right;\n",
       "    }\n",
       "\n",
       "    .dataframe thead th {\n",
       "        text-align: left;\n",
       "    }\n",
       "\n",
       "    .dataframe tbody tr th {\n",
       "        vertical-align: top;\n",
       "    }\n",
       "</style>\n",
       "<table border=\"1\" class=\"dataframe\">\n",
       "  <thead>\n",
       "    <tr style=\"text-align: right;\">\n",
       "      <th></th>\n",
       "      <th>A</th>\n",
       "      <th>B</th>\n",
       "      <th>C</th>\n",
       "      <th>D</th>\n",
       "      <th>E</th>\n",
       "      <th>F</th>\n",
       "    </tr>\n",
       "  </thead>\n",
       "  <tbody>\n",
       "    <tr>\n",
       "      <th>0</th>\n",
       "      <td>a0</td>\n",
       "      <td>b0</td>\n",
       "      <td>1.0</td>\n",
       "      <td>0.1</td>\n",
       "      <td>10.0</td>\n",
       "      <td>f0</td>\n",
       "    </tr>\n",
       "    <tr>\n",
       "      <th>3</th>\n",
       "      <td>a2</td>\n",
       "      <td>b2</td>\n",
       "      <td>3.0</td>\n",
       "      <td>8.9</td>\n",
       "      <td>25.0</td>\n",
       "      <td>f3</td>\n",
       "    </tr>\n",
       "    <tr>\n",
       "      <th>4</th>\n",
       "      <td>a3</td>\n",
       "      <td>b3</td>\n",
       "      <td>4.0</td>\n",
       "      <td>9.1</td>\n",
       "      <td>8.0</td>\n",
       "      <td>f4</td>\n",
       "    </tr>\n",
       "    <tr>\n",
       "      <th>5</th>\n",
       "      <td>a4</td>\n",
       "      <td>None</td>\n",
       "      <td>5.0</td>\n",
       "      <td>12.0</td>\n",
       "      <td>NaN</td>\n",
       "      <td>f5</td>\n",
       "    </tr>\n",
       "  </tbody>\n",
       "</table>\n",
       "</div>"
      ],
      "text/plain": [
       "    A     B    C     D     E   F\n",
       "0  a0    b0  1.0   0.1  10.0  f0\n",
       "3  a2    b2  3.0   8.9  25.0  f3\n",
       "4  a3    b3  4.0   9.1   8.0  f4\n",
       "5  a4  None  5.0  12.0   NaN  f5"
      ]
     },
     "execution_count": 11,
     "metadata": {},
     "output_type": "execute_result"
    }
   ],
   "source": [
    "df.drop_duplicates(['A'],keep=False)"
   ]
  },
  {
   "cell_type": "code",
   "execution_count": 13,
   "metadata": {},
   "outputs": [
    {
     "data": {
      "text/html": [
       "<div>\n",
       "<style>\n",
       "    .dataframe thead tr:only-child th {\n",
       "        text-align: right;\n",
       "    }\n",
       "\n",
       "    .dataframe thead th {\n",
       "        text-align: left;\n",
       "    }\n",
       "\n",
       "    .dataframe tbody tr th {\n",
       "        vertical-align: top;\n",
       "    }\n",
       "</style>\n",
       "<table border=\"1\" class=\"dataframe\">\n",
       "  <thead>\n",
       "    <tr style=\"text-align: right;\">\n",
       "      <th></th>\n",
       "      <th>A</th>\n",
       "      <th>B</th>\n",
       "      <th>C</th>\n",
       "      <th>D</th>\n",
       "      <th>E</th>\n",
       "      <th>F</th>\n",
       "    </tr>\n",
       "  </thead>\n",
       "  <tbody>\n",
       "    <tr>\n",
       "      <th>0</th>\n",
       "      <td>a0</td>\n",
       "      <td>b0</td>\n",
       "      <td>1</td>\n",
       "      <td>0.1</td>\n",
       "      <td>10</td>\n",
       "      <td>f0</td>\n",
       "    </tr>\n",
       "    <tr>\n",
       "      <th>1</th>\n",
       "      <td>a1</td>\n",
       "      <td>b1</td>\n",
       "      <td>2</td>\n",
       "      <td>10.2</td>\n",
       "      <td>19</td>\n",
       "      <td>f1</td>\n",
       "    </tr>\n",
       "    <tr>\n",
       "      <th>2</th>\n",
       "      <td>a1</td>\n",
       "      <td>b2</td>\n",
       "      <td>b*</td>\n",
       "      <td>11.4</td>\n",
       "      <td>32</td>\n",
       "      <td>g2</td>\n",
       "    </tr>\n",
       "    <tr>\n",
       "      <th>3</th>\n",
       "      <td>a2</td>\n",
       "      <td>b2</td>\n",
       "      <td>3</td>\n",
       "      <td>8.9</td>\n",
       "      <td>25</td>\n",
       "      <td>f3</td>\n",
       "    </tr>\n",
       "    <tr>\n",
       "      <th>4</th>\n",
       "      <td>a3</td>\n",
       "      <td>b3</td>\n",
       "      <td>4</td>\n",
       "      <td>9.1</td>\n",
       "      <td>8</td>\n",
       "      <td>f4</td>\n",
       "    </tr>\n",
       "    <tr>\n",
       "      <th>5</th>\n",
       "      <td>a4</td>\n",
       "      <td>b*</td>\n",
       "      <td>5</td>\n",
       "      <td>12.0</td>\n",
       "      <td>b*</td>\n",
       "      <td>f5</td>\n",
       "    </tr>\n",
       "  </tbody>\n",
       "</table>\n",
       "</div>"
      ],
      "text/plain": [
       "    A   B   C     D   E   F\n",
       "0  a0  b0   1   0.1  10  f0\n",
       "1  a1  b1   2  10.2  19  f1\n",
       "2  a1  b2  b*  11.4  32  g2\n",
       "3  a2  b2   3   8.9  25  f3\n",
       "4  a3  b3   4   9.1   8  f4\n",
       "5  a4  b*   5  12.0  b*  f5"
      ]
     },
     "execution_count": 13,
     "metadata": {},
     "output_type": "execute_result"
    }
   ],
   "source": [
    "df.fillna('b*')"
   ]
  },
  {
   "cell_type": "code",
   "execution_count": 14,
   "metadata": {},
   "outputs": [
    {
     "data": {
      "text/plain": [
       "0    10.0\n",
       "1    19.0\n",
       "2    32.0\n",
       "3    25.0\n",
       "4     8.0\n",
       "5    18.8\n",
       "Name: E, dtype: float64"
      ]
     },
     "execution_count": 14,
     "metadata": {},
     "output_type": "execute_result"
    }
   ],
   "source": [
    "df['E'].fillna(df['E'].mean())"
   ]
  },
  {
   "cell_type": "code",
   "execution_count": 15,
   "metadata": {},
   "outputs": [
    {
     "data": {
      "text/plain": [
       "0    10.0\n",
       "1    19.0\n",
       "2    32.0\n",
       "3    25.0\n",
       "4     8.0\n",
       "5     8.0\n",
       "Name: E, dtype: float64"
      ]
     },
     "execution_count": 15,
     "metadata": {},
     "output_type": "execute_result"
    }
   ],
   "source": [
    "# 插值(只能作用于series)\n",
    "df['E'].interpolate()"
   ]
  },
  {
   "cell_type": "code",
   "execution_count": 16,
   "metadata": {},
   "outputs": [
    {
     "data": {
      "text/plain": [
       "0     1.0\n",
       "1     2.5\n",
       "2     4.0\n",
       "3     5.0\n",
       "4    20.0\n",
       "dtype: float64"
      ]
     },
     "execution_count": 16,
     "metadata": {},
     "output_type": "execute_result"
    }
   ],
   "source": [
    "pd.Series([1,None,4,5,20]).interpolate()"
   ]
  },
  {
   "cell_type": "code",
   "execution_count": 17,
   "metadata": {},
   "outputs": [
    {
     "data": {
      "text/plain": [
       "0     0.1\n",
       "1    10.2\n",
       "2    11.4\n",
       "3     8.9\n",
       "4     9.1\n",
       "5    12.0\n",
       "Name: D, dtype: float64"
      ]
     },
     "execution_count": 17,
     "metadata": {},
     "output_type": "execute_result"
    }
   ],
   "source": [
    "# 异常值\n",
    "df['D']"
   ]
  },
  {
   "cell_type": "code",
   "execution_count": 18,
   "metadata": {},
   "outputs": [],
   "source": [
    "upper_q=df['D'].quantile(0.75)\n",
    "lower_q=df['D'].quantile(0.25)\n",
    "q_int=upper_q-lower_q"
   ]
  },
  {
   "cell_type": "code",
   "execution_count": 19,
   "metadata": {},
   "outputs": [
    {
     "name": "stderr",
     "output_type": "stream",
     "text": [
      "D:\\anaconda\\64bit\\envs\\py3.6\\lib\\site-packages\\ipykernel\\__main__.py:2: UserWarning: Boolean Series key will be reindexed to match DataFrame index.\n",
      "  from ipykernel import kernelapp as app\n"
     ]
    },
    {
     "data": {
      "text/html": [
       "<div>\n",
       "<style>\n",
       "    .dataframe thead tr:only-child th {\n",
       "        text-align: right;\n",
       "    }\n",
       "\n",
       "    .dataframe thead th {\n",
       "        text-align: left;\n",
       "    }\n",
       "\n",
       "    .dataframe tbody tr th {\n",
       "        vertical-align: top;\n",
       "    }\n",
       "</style>\n",
       "<table border=\"1\" class=\"dataframe\">\n",
       "  <thead>\n",
       "    <tr style=\"text-align: right;\">\n",
       "      <th></th>\n",
       "      <th>A</th>\n",
       "      <th>B</th>\n",
       "      <th>C</th>\n",
       "      <th>D</th>\n",
       "      <th>E</th>\n",
       "      <th>F</th>\n",
       "    </tr>\n",
       "  </thead>\n",
       "  <tbody>\n",
       "    <tr>\n",
       "      <th>1</th>\n",
       "      <td>a1</td>\n",
       "      <td>b1</td>\n",
       "      <td>2.0</td>\n",
       "      <td>10.2</td>\n",
       "      <td>19.0</td>\n",
       "      <td>f1</td>\n",
       "    </tr>\n",
       "    <tr>\n",
       "      <th>2</th>\n",
       "      <td>a1</td>\n",
       "      <td>b2</td>\n",
       "      <td>NaN</td>\n",
       "      <td>11.4</td>\n",
       "      <td>32.0</td>\n",
       "      <td>g2</td>\n",
       "    </tr>\n",
       "    <tr>\n",
       "      <th>3</th>\n",
       "      <td>a2</td>\n",
       "      <td>b2</td>\n",
       "      <td>3.0</td>\n",
       "      <td>8.9</td>\n",
       "      <td>25.0</td>\n",
       "      <td>f3</td>\n",
       "    </tr>\n",
       "    <tr>\n",
       "      <th>4</th>\n",
       "      <td>a3</td>\n",
       "      <td>b3</td>\n",
       "      <td>4.0</td>\n",
       "      <td>9.1</td>\n",
       "      <td>8.0</td>\n",
       "      <td>f4</td>\n",
       "    </tr>\n",
       "    <tr>\n",
       "      <th>5</th>\n",
       "      <td>a4</td>\n",
       "      <td>None</td>\n",
       "      <td>5.0</td>\n",
       "      <td>12.0</td>\n",
       "      <td>NaN</td>\n",
       "      <td>f5</td>\n",
       "    </tr>\n",
       "  </tbody>\n",
       "</table>\n",
       "</div>"
      ],
      "text/plain": [
       "    A     B    C     D     E   F\n",
       "1  a1    b1  2.0  10.2  19.0  f1\n",
       "2  a1    b2  NaN  11.4  32.0  g2\n",
       "3  a2    b2  3.0   8.9  25.0  f3\n",
       "4  a3    b3  4.0   9.1   8.0  f4\n",
       "5  a4  None  5.0  12.0   NaN  f5"
      ]
     },
     "execution_count": 19,
     "metadata": {},
     "output_type": "execute_result"
    }
   ],
   "source": [
    "k=1.5\n",
    "df[df['D']>lower_q-k*q_int][df['D']<upper_q+k*q_int]"
   ]
  },
  {
   "cell_type": "code",
   "execution_count": 20,
   "metadata": {},
   "outputs": [
    {
     "data": {
      "text/plain": [
       "0    f0\n",
       "1    f1\n",
       "2    g2\n",
       "3    f3\n",
       "4    f4\n",
       "5    f5\n",
       "Name: F, dtype: object"
      ]
     },
     "execution_count": 20,
     "metadata": {},
     "output_type": "execute_result"
    }
   ],
   "source": [
    "df['F']  # 去掉g2"
   ]
  },
  {
   "cell_type": "code",
   "execution_count": 22,
   "metadata": {},
   "outputs": [
    {
     "data": {
      "text/html": [
       "<div>\n",
       "<style>\n",
       "    .dataframe thead tr:only-child th {\n",
       "        text-align: right;\n",
       "    }\n",
       "\n",
       "    .dataframe thead th {\n",
       "        text-align: left;\n",
       "    }\n",
       "\n",
       "    .dataframe tbody tr th {\n",
       "        vertical-align: top;\n",
       "    }\n",
       "</style>\n",
       "<table border=\"1\" class=\"dataframe\">\n",
       "  <thead>\n",
       "    <tr style=\"text-align: right;\">\n",
       "      <th></th>\n",
       "      <th>A</th>\n",
       "      <th>B</th>\n",
       "      <th>C</th>\n",
       "      <th>D</th>\n",
       "      <th>E</th>\n",
       "      <th>F</th>\n",
       "    </tr>\n",
       "  </thead>\n",
       "  <tbody>\n",
       "    <tr>\n",
       "      <th>0</th>\n",
       "      <td>a0</td>\n",
       "      <td>b0</td>\n",
       "      <td>1.0</td>\n",
       "      <td>0.1</td>\n",
       "      <td>10.0</td>\n",
       "      <td>f0</td>\n",
       "    </tr>\n",
       "    <tr>\n",
       "      <th>1</th>\n",
       "      <td>a1</td>\n",
       "      <td>b1</td>\n",
       "      <td>2.0</td>\n",
       "      <td>10.2</td>\n",
       "      <td>19.0</td>\n",
       "      <td>f1</td>\n",
       "    </tr>\n",
       "    <tr>\n",
       "      <th>3</th>\n",
       "      <td>a2</td>\n",
       "      <td>b2</td>\n",
       "      <td>3.0</td>\n",
       "      <td>8.9</td>\n",
       "      <td>25.0</td>\n",
       "      <td>f3</td>\n",
       "    </tr>\n",
       "    <tr>\n",
       "      <th>4</th>\n",
       "      <td>a3</td>\n",
       "      <td>b3</td>\n",
       "      <td>4.0</td>\n",
       "      <td>9.1</td>\n",
       "      <td>8.0</td>\n",
       "      <td>f4</td>\n",
       "    </tr>\n",
       "    <tr>\n",
       "      <th>5</th>\n",
       "      <td>a4</td>\n",
       "      <td>None</td>\n",
       "      <td>5.0</td>\n",
       "      <td>12.0</td>\n",
       "      <td>NaN</td>\n",
       "      <td>f5</td>\n",
       "    </tr>\n",
       "  </tbody>\n",
       "</table>\n",
       "</div>"
      ],
      "text/plain": [
       "    A     B    C     D     E   F\n",
       "0  a0    b0  1.0   0.1  10.0  f0\n",
       "1  a1    b1  2.0  10.2  19.0  f1\n",
       "3  a2    b2  3.0   8.9  25.0  f3\n",
       "4  a3    b3  4.0   9.1   8.0  f4\n",
       "5  a4  None  5.0  12.0   NaN  f5"
      ]
     },
     "execution_count": 22,
     "metadata": {},
     "output_type": "execute_result"
    }
   ],
   "source": [
    "df[[True if item.startswith('f') else False for item in list(df['F'].values)]]"
   ]
  },
  {
   "cell_type": "markdown",
   "metadata": {},
   "source": [
    "## 特征预处理\n",
    "### 特征选择\n",
    "HR.csv数据要处理的问题：根据其他属性预测人员离职率，推断什么样的人容易离职。\n",
    "<br />因此label（标注）为left。其他属性为特征（features）。"
   ]
  },
  {
   "cell_type": "code",
   "execution_count": 3,
   "metadata": {},
   "outputs": [],
   "source": [
    "import scipy.stats as ss"
   ]
  },
  {
   "cell_type": "code",
   "execution_count": 5,
   "metadata": {},
   "outputs": [],
   "source": [
    "df=pd.DataFrame({'A':ss.norm.rvs(size=10),\n",
    "                 'B':ss.norm.rvs(size=10),\n",
    "                 'C':ss.norm.rvs(size=10),\n",
    "                 'D':np.random.randint(low=0,high=2,size=10)})"
   ]
  },
  {
   "cell_type": "code",
   "execution_count": 6,
   "metadata": {},
   "outputs": [
    {
     "data": {
      "text/html": [
       "<div>\n",
       "<style>\n",
       "    .dataframe thead tr:only-child th {\n",
       "        text-align: right;\n",
       "    }\n",
       "\n",
       "    .dataframe thead th {\n",
       "        text-align: left;\n",
       "    }\n",
       "\n",
       "    .dataframe tbody tr th {\n",
       "        vertical-align: top;\n",
       "    }\n",
       "</style>\n",
       "<table border=\"1\" class=\"dataframe\">\n",
       "  <thead>\n",
       "    <tr style=\"text-align: right;\">\n",
       "      <th></th>\n",
       "      <th>A</th>\n",
       "      <th>B</th>\n",
       "      <th>C</th>\n",
       "      <th>D</th>\n",
       "    </tr>\n",
       "  </thead>\n",
       "  <tbody>\n",
       "    <tr>\n",
       "      <th>0</th>\n",
       "      <td>-0.678018</td>\n",
       "      <td>0.936138</td>\n",
       "      <td>0.183552</td>\n",
       "      <td>1</td>\n",
       "    </tr>\n",
       "    <tr>\n",
       "      <th>1</th>\n",
       "      <td>-0.642499</td>\n",
       "      <td>0.798407</td>\n",
       "      <td>-0.128748</td>\n",
       "      <td>0</td>\n",
       "    </tr>\n",
       "    <tr>\n",
       "      <th>2</th>\n",
       "      <td>0.558729</td>\n",
       "      <td>0.452267</td>\n",
       "      <td>-1.207170</td>\n",
       "      <td>1</td>\n",
       "    </tr>\n",
       "    <tr>\n",
       "      <th>3</th>\n",
       "      <td>-0.812791</td>\n",
       "      <td>-1.120381</td>\n",
       "      <td>-0.199199</td>\n",
       "      <td>1</td>\n",
       "    </tr>\n",
       "    <tr>\n",
       "      <th>4</th>\n",
       "      <td>0.160220</td>\n",
       "      <td>0.228545</td>\n",
       "      <td>0.029413</td>\n",
       "      <td>1</td>\n",
       "    </tr>\n",
       "    <tr>\n",
       "      <th>5</th>\n",
       "      <td>-0.938964</td>\n",
       "      <td>-0.507716</td>\n",
       "      <td>-1.745953</td>\n",
       "      <td>0</td>\n",
       "    </tr>\n",
       "    <tr>\n",
       "      <th>6</th>\n",
       "      <td>-0.279468</td>\n",
       "      <td>0.102509</td>\n",
       "      <td>0.958818</td>\n",
       "      <td>1</td>\n",
       "    </tr>\n",
       "    <tr>\n",
       "      <th>7</th>\n",
       "      <td>0.844665</td>\n",
       "      <td>1.098862</td>\n",
       "      <td>-0.270638</td>\n",
       "      <td>1</td>\n",
       "    </tr>\n",
       "    <tr>\n",
       "      <th>8</th>\n",
       "      <td>1.093935</td>\n",
       "      <td>-2.137262</td>\n",
       "      <td>0.239498</td>\n",
       "      <td>0</td>\n",
       "    </tr>\n",
       "    <tr>\n",
       "      <th>9</th>\n",
       "      <td>-0.981487</td>\n",
       "      <td>0.601891</td>\n",
       "      <td>-0.707032</td>\n",
       "      <td>0</td>\n",
       "    </tr>\n",
       "  </tbody>\n",
       "</table>\n",
       "</div>"
      ],
      "text/plain": [
       "          A         B         C  D\n",
       "0 -0.678018  0.936138  0.183552  1\n",
       "1 -0.642499  0.798407 -0.128748  0\n",
       "2  0.558729  0.452267 -1.207170  1\n",
       "3 -0.812791 -1.120381 -0.199199  1\n",
       "4  0.160220  0.228545  0.029413  1\n",
       "5 -0.938964 -0.507716 -1.745953  0\n",
       "6 -0.279468  0.102509  0.958818  1\n",
       "7  0.844665  1.098862 -0.270638  1\n",
       "8  1.093935 -2.137262  0.239498  0\n",
       "9 -0.981487  0.601891 -0.707032  0"
      ]
     },
     "execution_count": 6,
     "metadata": {},
     "output_type": "execute_result"
    }
   ],
   "source": [
    "df"
   ]
  },
  {
   "cell_type": "code",
   "execution_count": 8,
   "metadata": {},
   "outputs": [],
   "source": [
    "from sklearn.svm import SVR\n",
    "from sklearn.tree import DecisionTreeRegressor"
   ]
  },
  {
   "cell_type": "code",
   "execution_count": 10,
   "metadata": {},
   "outputs": [],
   "source": [
    "X=df.loc[:,['A','B','C']]\n",
    "Y=df.loc[:,'D']"
   ]
  },
  {
   "cell_type": "code",
   "execution_count": 11,
   "metadata": {},
   "outputs": [],
   "source": [
    "from sklearn.feature_selection import SelectKBest,RFE,SelectFromModel"
   ]
  },
  {
   "cell_type": "markdown",
   "metadata": {},
   "source": [
    "其中SelectKBest为过滤常用的类，RFE为包裹常用的类，SelectFromModel为嵌入常用类。过滤、包裹、嵌入均为特征选择的方法。"
   ]
  },
  {
   "cell_type": "code",
   "execution_count": 12,
   "metadata": {},
   "outputs": [
    {
     "data": {
      "text/plain": [
       "SelectKBest(k=2, score_func=<function f_classif at 0x000001F23BB2C620>)"
      ]
     },
     "execution_count": 12,
     "metadata": {},
     "output_type": "execute_result"
    }
   ],
   "source": [
    "skb=SelectKBest(k=2)\n",
    "skb.fit(X,Y)"
   ]
  },
  {
   "cell_type": "code",
   "execution_count": 14,
   "metadata": {},
   "outputs": [
    {
     "data": {
      "text/html": [
       "<div>\n",
       "<style>\n",
       "    .dataframe thead tr:only-child th {\n",
       "        text-align: right;\n",
       "    }\n",
       "\n",
       "    .dataframe thead th {\n",
       "        text-align: left;\n",
       "    }\n",
       "\n",
       "    .dataframe tbody tr th {\n",
       "        vertical-align: top;\n",
       "    }\n",
       "</style>\n",
       "<table border=\"1\" class=\"dataframe\">\n",
       "  <thead>\n",
       "    <tr style=\"text-align: right;\">\n",
       "      <th></th>\n",
       "      <th>A</th>\n",
       "      <th>B</th>\n",
       "      <th>C</th>\n",
       "    </tr>\n",
       "  </thead>\n",
       "  <tbody>\n",
       "    <tr>\n",
       "      <th>0</th>\n",
       "      <td>-0.678018</td>\n",
       "      <td>0.936138</td>\n",
       "      <td>0.183552</td>\n",
       "    </tr>\n",
       "    <tr>\n",
       "      <th>1</th>\n",
       "      <td>-0.642499</td>\n",
       "      <td>0.798407</td>\n",
       "      <td>-0.128748</td>\n",
       "    </tr>\n",
       "    <tr>\n",
       "      <th>2</th>\n",
       "      <td>0.558729</td>\n",
       "      <td>0.452267</td>\n",
       "      <td>-1.207170</td>\n",
       "    </tr>\n",
       "    <tr>\n",
       "      <th>3</th>\n",
       "      <td>-0.812791</td>\n",
       "      <td>-1.120381</td>\n",
       "      <td>-0.199199</td>\n",
       "    </tr>\n",
       "    <tr>\n",
       "      <th>4</th>\n",
       "      <td>0.160220</td>\n",
       "      <td>0.228545</td>\n",
       "      <td>0.029413</td>\n",
       "    </tr>\n",
       "    <tr>\n",
       "      <th>5</th>\n",
       "      <td>-0.938964</td>\n",
       "      <td>-0.507716</td>\n",
       "      <td>-1.745953</td>\n",
       "    </tr>\n",
       "    <tr>\n",
       "      <th>6</th>\n",
       "      <td>-0.279468</td>\n",
       "      <td>0.102509</td>\n",
       "      <td>0.958818</td>\n",
       "    </tr>\n",
       "    <tr>\n",
       "      <th>7</th>\n",
       "      <td>0.844665</td>\n",
       "      <td>1.098862</td>\n",
       "      <td>-0.270638</td>\n",
       "    </tr>\n",
       "    <tr>\n",
       "      <th>8</th>\n",
       "      <td>1.093935</td>\n",
       "      <td>-2.137262</td>\n",
       "      <td>0.239498</td>\n",
       "    </tr>\n",
       "    <tr>\n",
       "      <th>9</th>\n",
       "      <td>-0.981487</td>\n",
       "      <td>0.601891</td>\n",
       "      <td>-0.707032</td>\n",
       "    </tr>\n",
       "  </tbody>\n",
       "</table>\n",
       "</div>"
      ],
      "text/plain": [
       "          A         B         C\n",
       "0 -0.678018  0.936138  0.183552\n",
       "1 -0.642499  0.798407 -0.128748\n",
       "2  0.558729  0.452267 -1.207170\n",
       "3 -0.812791 -1.120381 -0.199199\n",
       "4  0.160220  0.228545  0.029413\n",
       "5 -0.938964 -0.507716 -1.745953\n",
       "6 -0.279468  0.102509  0.958818\n",
       "7  0.844665  1.098862 -0.270638\n",
       "8  1.093935 -2.137262  0.239498\n",
       "9 -0.981487  0.601891 -0.707032"
      ]
     },
     "execution_count": 14,
     "metadata": {},
     "output_type": "execute_result"
    }
   ],
   "source": [
    "X"
   ]
  },
  {
   "cell_type": "code",
   "execution_count": 13,
   "metadata": {},
   "outputs": [
    {
     "data": {
      "text/plain": [
       "array([[ 0.93613824,  0.18355237],\n",
       "       [ 0.79840717, -0.12874761],\n",
       "       [ 0.45226706, -1.20716983],\n",
       "       [-1.12038128, -0.19919915],\n",
       "       [ 0.22854538,  0.02941294],\n",
       "       [-0.50771621, -1.74595297],\n",
       "       [ 0.10250949,  0.95881812],\n",
       "       [ 1.09886185, -0.27063839],\n",
       "       [-2.13726177,  0.23949766],\n",
       "       [ 0.60189103, -0.70703238]])"
      ]
     },
     "execution_count": 13,
     "metadata": {},
     "output_type": "execute_result"
    }
   ],
   "source": [
    "skb.transform(X)"
   ]
  },
  {
   "cell_type": "markdown",
   "metadata": {},
   "source": [
    "发现features只保留了B和C列"
   ]
  },
  {
   "cell_type": "code",
   "execution_count": 15,
   "metadata": {},
   "outputs": [],
   "source": [
    "# estimateor指定SVR线性回归器，step=1表示每迭代一次去掉1个特征。\n",
    "rfe=RFE(estimator=SVR(kernel='linear'),n_features_to_select=2,step=1)"
   ]
  },
  {
   "cell_type": "code",
   "execution_count": 17,
   "metadata": {},
   "outputs": [
    {
     "data": {
      "text/html": [
       "<div>\n",
       "<style>\n",
       "    .dataframe thead tr:only-child th {\n",
       "        text-align: right;\n",
       "    }\n",
       "\n",
       "    .dataframe thead th {\n",
       "        text-align: left;\n",
       "    }\n",
       "\n",
       "    .dataframe tbody tr th {\n",
       "        vertical-align: top;\n",
       "    }\n",
       "</style>\n",
       "<table border=\"1\" class=\"dataframe\">\n",
       "  <thead>\n",
       "    <tr style=\"text-align: right;\">\n",
       "      <th></th>\n",
       "      <th>A</th>\n",
       "      <th>B</th>\n",
       "      <th>C</th>\n",
       "    </tr>\n",
       "  </thead>\n",
       "  <tbody>\n",
       "    <tr>\n",
       "      <th>0</th>\n",
       "      <td>-0.678018</td>\n",
       "      <td>0.936138</td>\n",
       "      <td>0.183552</td>\n",
       "    </tr>\n",
       "    <tr>\n",
       "      <th>1</th>\n",
       "      <td>-0.642499</td>\n",
       "      <td>0.798407</td>\n",
       "      <td>-0.128748</td>\n",
       "    </tr>\n",
       "    <tr>\n",
       "      <th>2</th>\n",
       "      <td>0.558729</td>\n",
       "      <td>0.452267</td>\n",
       "      <td>-1.207170</td>\n",
       "    </tr>\n",
       "    <tr>\n",
       "      <th>3</th>\n",
       "      <td>-0.812791</td>\n",
       "      <td>-1.120381</td>\n",
       "      <td>-0.199199</td>\n",
       "    </tr>\n",
       "    <tr>\n",
       "      <th>4</th>\n",
       "      <td>0.160220</td>\n",
       "      <td>0.228545</td>\n",
       "      <td>0.029413</td>\n",
       "    </tr>\n",
       "    <tr>\n",
       "      <th>5</th>\n",
       "      <td>-0.938964</td>\n",
       "      <td>-0.507716</td>\n",
       "      <td>-1.745953</td>\n",
       "    </tr>\n",
       "    <tr>\n",
       "      <th>6</th>\n",
       "      <td>-0.279468</td>\n",
       "      <td>0.102509</td>\n",
       "      <td>0.958818</td>\n",
       "    </tr>\n",
       "    <tr>\n",
       "      <th>7</th>\n",
       "      <td>0.844665</td>\n",
       "      <td>1.098862</td>\n",
       "      <td>-0.270638</td>\n",
       "    </tr>\n",
       "    <tr>\n",
       "      <th>8</th>\n",
       "      <td>1.093935</td>\n",
       "      <td>-2.137262</td>\n",
       "      <td>0.239498</td>\n",
       "    </tr>\n",
       "    <tr>\n",
       "      <th>9</th>\n",
       "      <td>-0.981487</td>\n",
       "      <td>0.601891</td>\n",
       "      <td>-0.707032</td>\n",
       "    </tr>\n",
       "  </tbody>\n",
       "</table>\n",
       "</div>"
      ],
      "text/plain": [
       "          A         B         C\n",
       "0 -0.678018  0.936138  0.183552\n",
       "1 -0.642499  0.798407 -0.128748\n",
       "2  0.558729  0.452267 -1.207170\n",
       "3 -0.812791 -1.120381 -0.199199\n",
       "4  0.160220  0.228545  0.029413\n",
       "5 -0.938964 -0.507716 -1.745953\n",
       "6 -0.279468  0.102509  0.958818\n",
       "7  0.844665  1.098862 -0.270638\n",
       "8  1.093935 -2.137262  0.239498\n",
       "9 -0.981487  0.601891 -0.707032"
      ]
     },
     "execution_count": 17,
     "metadata": {},
     "output_type": "execute_result"
    }
   ],
   "source": [
    "X"
   ]
  },
  {
   "cell_type": "code",
   "execution_count": 16,
   "metadata": {},
   "outputs": [
    {
     "data": {
      "text/plain": [
       "array([[ 0.93613824,  0.18355237],\n",
       "       [ 0.79840717, -0.12874761],\n",
       "       [ 0.45226706, -1.20716983],\n",
       "       [-1.12038128, -0.19919915],\n",
       "       [ 0.22854538,  0.02941294],\n",
       "       [-0.50771621, -1.74595297],\n",
       "       [ 0.10250949,  0.95881812],\n",
       "       [ 1.09886185, -0.27063839],\n",
       "       [-2.13726177,  0.23949766],\n",
       "       [ 0.60189103, -0.70703238]])"
      ]
     },
     "execution_count": 16,
     "metadata": {},
     "output_type": "execute_result"
    }
   ],
   "source": [
    "rfe.fit_transform(X,Y)"
   ]
  },
  {
   "cell_type": "markdown",
   "metadata": {},
   "source": [
    "发现只保留了B和C列"
   ]
  },
  {
   "cell_type": "code",
   "execution_count": 18,
   "metadata": {},
   "outputs": [],
   "source": [
    "# threshold=0.1表示重要性因子小于0.1就会被去掉\n",
    "sfm=SelectFromModel(estimator=DecisionTreeRegressor(),threshold=0.1)"
   ]
  },
  {
   "cell_type": "code",
   "execution_count": 19,
   "metadata": {},
   "outputs": [
    {
     "data": {
      "text/plain": [
       "array([[-0.6780179 ,  0.93613824],\n",
       "       [-0.64249904,  0.79840717],\n",
       "       [ 0.55872901,  0.45226706],\n",
       "       [-0.812791  , -1.12038128],\n",
       "       [ 0.16021982,  0.22854538],\n",
       "       [-0.9389639 , -0.50771621],\n",
       "       [-0.27946761,  0.10250949],\n",
       "       [ 0.84466483,  1.09886185],\n",
       "       [ 1.09393509, -2.13726177],\n",
       "       [-0.98148656,  0.60189103]])"
      ]
     },
     "execution_count": 19,
     "metadata": {},
     "output_type": "execute_result"
    }
   ],
   "source": [
    "sfm.fit_transform(X,Y)"
   ]
  },
  {
   "cell_type": "markdown",
   "metadata": {},
   "source": [
    "发现只保留了A列和B列。"
   ]
  },
  {
   "cell_type": "markdown",
   "metadata": {},
   "source": [
    "注：estimator= 已经选择了方法，但是在特征选择中，是通过取数据样本来选择更重要的特征，后续的建模中才是用estimator指定的方法对全部数据进行建模。"
   ]
  },
  {
   "cell_type": "markdown",
   "metadata": {},
   "source": [
    "### 特征变换\n",
    "（1）对指化\n",
    "<img src='./image/5.6.png' width=500 />"
   ]
  },
  {
   "cell_type": "markdown",
   "metadata": {},
   "source": [
    "（2）离散化\n",
    "<img src='./image/5.7.png' width=500 />"
   ]
  },
  {
   "cell_type": "code",
   "execution_count": 20,
   "metadata": {},
   "outputs": [],
   "source": [
    "lst=[6,8,10,15,16,24,25,40,67]"
   ]
  },
  {
   "cell_type": "code",
   "execution_count": 21,
   "metadata": {},
   "outputs": [
    {
     "data": {
      "text/plain": [
       "[(5.999, 13.333], (5.999, 13.333], (5.999, 13.333], (13.333, 24.333], (13.333, 24.333], (13.333, 24.333], (24.333, 67.0], (24.333, 67.0], (24.333, 67.0]]\n",
       "Categories (3, interval[float64]): [(5.999, 13.333] < (13.333, 24.333] < (24.333, 67.0]]"
      ]
     },
     "execution_count": 21,
     "metadata": {},
     "output_type": "execute_result"
    }
   ],
   "source": [
    "# 等深（等频）分箱\n",
    "pd.qcut(lst,q=3)"
   ]
  },
  {
   "cell_type": "code",
   "execution_count": 22,
   "metadata": {},
   "outputs": [
    {
     "data": {
      "text/plain": [
       "[low, low, low, medium, medium, medium, high, high, high]\n",
       "Categories (3, object): [low < medium < high]"
      ]
     },
     "execution_count": 22,
     "metadata": {},
     "output_type": "execute_result"
    }
   ],
   "source": [
    "pd.qcut(lst,q=3,labels=['low','medium','high'])"
   ]
  },
  {
   "cell_type": "code",
   "execution_count": 23,
   "metadata": {},
   "outputs": [
    {
     "data": {
      "text/plain": [
       "[(5.939, 26.333], (5.939, 26.333], (5.939, 26.333], (5.939, 26.333], (5.939, 26.333], (5.939, 26.333], (5.939, 26.333], (26.333, 46.667], (46.667, 67.0]]\n",
       "Categories (3, interval[float64]): [(5.939, 26.333] < (26.333, 46.667] < (46.667, 67.0]]"
      ]
     },
     "execution_count": 23,
     "metadata": {},
     "output_type": "execute_result"
    }
   ],
   "source": [
    "# 等宽（等距）分箱\n",
    "pd.cut(lst,bins=3)"
   ]
  },
  {
   "cell_type": "code",
   "execution_count": 24,
   "metadata": {},
   "outputs": [
    {
     "data": {
      "text/plain": [
       "[low, low, low, low, low, low, low, medium, high]\n",
       "Categories (3, object): [low < medium < high]"
      ]
     },
     "execution_count": 24,
     "metadata": {},
     "output_type": "execute_result"
    }
   ],
   "source": [
    "pd.cut(lst,bins=3,labels=['low','medium','high'])"
   ]
  },
  {
   "cell_type": "markdown",
   "metadata": {},
   "source": [
    "（3）归一化与标准化"
   ]
  },
  {
   "cell_type": "code",
   "execution_count": 25,
   "metadata": {},
   "outputs": [],
   "source": [
    "from sklearn.preprocessing import MinMaxScaler,StandardScaler"
   ]
  },
  {
   "cell_type": "code",
   "execution_count": 27,
   "metadata": {},
   "outputs": [
    {
     "data": {
      "text/plain": [
       "array([ 1,  4, 10, 15, 21])"
      ]
     },
     "execution_count": 27,
     "metadata": {},
     "output_type": "execute_result"
    }
   ],
   "source": [
    "np.array([1,4,10,15,21])"
   ]
  },
  {
   "cell_type": "code",
   "execution_count": 28,
   "metadata": {},
   "outputs": [
    {
     "data": {
      "text/plain": [
       "array([[ 1],\n",
       "       [ 4],\n",
       "       [10],\n",
       "       [15],\n",
       "       [21]])"
      ]
     },
     "execution_count": 28,
     "metadata": {},
     "output_type": "execute_result"
    }
   ],
   "source": [
    "np.array([1,4,10,15,21]).reshape(-1,1) \n",
    "# reshape(-1,1)中，-1表示不指定行数，1表示指定为1列。"
   ]
  },
  {
   "cell_type": "code",
   "execution_count": 26,
   "metadata": {},
   "outputs": [
    {
     "name": "stderr",
     "output_type": "stream",
     "text": [
      "D:\\anaconda\\64bit\\envs\\py3.6\\lib\\site-packages\\sklearn\\utils\\validation.py:444: DataConversionWarning: Data with input dtype int32 was converted to float64 by MinMaxScaler.\n",
      "  warnings.warn(msg, DataConversionWarning)\n"
     ]
    },
    {
     "data": {
      "text/plain": [
       "array([[ 0.  ],\n",
       "       [ 0.15],\n",
       "       [ 0.45],\n",
       "       [ 0.7 ],\n",
       "       [ 1.  ]])"
      ]
     },
     "execution_count": 26,
     "metadata": {},
     "output_type": "execute_result"
    }
   ],
   "source": [
    "MinMaxScaler().fit_transform(np.array([1,4,10,15,21]).reshape(-1,1))"
   ]
  },
  {
   "cell_type": "code",
   "execution_count": 29,
   "metadata": {},
   "outputs": [
    {
     "name": "stderr",
     "output_type": "stream",
     "text": [
      "D:\\anaconda\\64bit\\envs\\py3.6\\lib\\site-packages\\sklearn\\utils\\validation.py:444: DataConversionWarning: Data with input dtype int32 was converted to float64 by StandardScaler.\n",
      "  warnings.warn(msg, DataConversionWarning)\n"
     ]
    },
    {
     "data": {
      "text/plain": [
       "array([[ 1.],\n",
       "       [ 1.],\n",
       "       [ 1.],\n",
       "       [ 1.],\n",
       "       [-1.],\n",
       "       [-1.],\n",
       "       [-1.],\n",
       "       [-1.]])"
      ]
     },
     "execution_count": 29,
     "metadata": {},
     "output_type": "execute_result"
    }
   ],
   "source": [
    "StandardScaler().fit_transform(np.array([1,1,1,1,0,0,0,0]).reshape(-1,1))"
   ]
  },
  {
   "cell_type": "code",
   "execution_count": 30,
   "metadata": {},
   "outputs": [
    {
     "name": "stderr",
     "output_type": "stream",
     "text": [
      "D:\\anaconda\\64bit\\envs\\py3.6\\lib\\site-packages\\sklearn\\utils\\validation.py:444: DataConversionWarning: Data with input dtype int32 was converted to float64 by StandardScaler.\n",
      "  warnings.warn(msg, DataConversionWarning)\n"
     ]
    },
    {
     "data": {
      "text/plain": [
       "array([[ 2.64575131],\n",
       "       [-0.37796447],\n",
       "       [-0.37796447],\n",
       "       [-0.37796447],\n",
       "       [-0.37796447],\n",
       "       [-0.37796447],\n",
       "       [-0.37796447],\n",
       "       [-0.37796447]])"
      ]
     },
     "execution_count": 30,
     "metadata": {},
     "output_type": "execute_result"
    }
   ],
   "source": [
    "StandardScaler().fit_transform(np.array([1,0,0,0,0,0,0,0]).reshape(-1,1))"
   ]
  },
  {
   "cell_type": "markdown",
   "metadata": {},
   "source": [
    "（4）数值化"
   ]
  },
  {
   "cell_type": "code",
   "execution_count": 31,
   "metadata": {},
   "outputs": [],
   "source": [
    "from sklearn.preprocessing import  LabelEncoder,OneHotEncoder"
   ]
  },
  {
   "cell_type": "code",
   "execution_count": 32,
   "metadata": {},
   "outputs": [
    {
     "name": "stderr",
     "output_type": "stream",
     "text": [
      "D:\\anaconda\\64bit\\envs\\py3.6\\lib\\site-packages\\sklearn\\preprocessing\\label.py:111: DataConversionWarning: A column-vector y was passed when a 1d array was expected. Please change the shape of y to (n_samples, ), for example using ravel().\n",
      "  y = column_or_1d(y, warn=True)\n"
     ]
    },
    {
     "data": {
      "text/plain": [
       "array([0, 1, 1, 0], dtype=int64)"
      ]
     },
     "execution_count": 32,
     "metadata": {},
     "output_type": "execute_result"
    }
   ],
   "source": [
    "LabelEncoder().fit_transform(np.array(['Down','Up','Up','Down']).reshape(-1,1))"
   ]
  },
  {
   "cell_type": "code",
   "execution_count": 40,
   "metadata": {},
   "outputs": [
    {
     "name": "stderr",
     "output_type": "stream",
     "text": [
      "D:\\anaconda\\64bit\\envs\\py3.6\\lib\\site-packages\\sklearn\\preprocessing\\label.py:111: DataConversionWarning: A column-vector y was passed when a 1d array was expected. Please change the shape of y to (n_samples, ), for example using ravel().\n",
      "  y = column_or_1d(y, warn=True)\n"
     ]
    }
   ],
   "source": [
    "# one-hot 编码需要先labelEncoder\n",
    "lb_encoder=LabelEncoder()\n",
    "lb_tran_f=lb_encoder.fit_transform(np.array(['Red','Yellow','Blue','Green']).reshape(-1,1))"
   ]
  },
  {
   "cell_type": "code",
   "execution_count": 41,
   "metadata": {},
   "outputs": [],
   "source": [
    "oht_encoder=OneHotEncoder().fit(lb_tran_f.reshape(-1,1))"
   ]
  },
  {
   "cell_type": "code",
   "execution_count": 44,
   "metadata": {},
   "outputs": [
    {
     "name": "stderr",
     "output_type": "stream",
     "text": [
      "D:\\anaconda\\64bit\\envs\\py3.6\\lib\\site-packages\\sklearn\\preprocessing\\label.py:128: DataConversionWarning: A column-vector y was passed when a 1d array was expected. Please change the shape of y to (n_samples, ), for example using ravel().\n",
      "  y = column_or_1d(y, warn=True)\n"
     ]
    },
    {
     "data": {
      "text/plain": [
       "<5x4 sparse matrix of type '<class 'numpy.float64'>'\n",
       "\twith 5 stored elements in Compressed Sparse Row format>"
      ]
     },
     "execution_count": 44,
     "metadata": {},
     "output_type": "execute_result"
    }
   ],
   "source": [
    "oht_encoder.transform(lb_encoder.transform(np.array(['Yellow','Blue','Green','Green','Red']).reshape(-1,1)).reshape(-1,1))"
   ]
  },
  {
   "cell_type": "code",
   "execution_count": 48,
   "metadata": {},
   "outputs": [
    {
     "data": {
      "text/plain": [
       "array([[ 0.,  0.,  0.,  1.],\n",
       "       [ 1.,  0.,  0.,  0.],\n",
       "       [ 0.,  1.,  0.,  0.],\n",
       "       [ 0.,  1.,  0.,  0.],\n",
       "       [ 0.,  0.,  1.,  0.]])"
      ]
     },
     "execution_count": 48,
     "metadata": {},
     "output_type": "execute_result"
    }
   ],
   "source": [
    "oht_encoder.transform(lb_encoder.transform(np.array(['Yellow','Blue','Green','Green','Red'])).reshape(-1,1)).toarray()"
   ]
  },
  {
   "cell_type": "markdown",
   "metadata": {},
   "source": [
    "（5）正规化\n",
    "<img src='./image/5.10.png' width=500 />\n",
    "默认是针对行来处理，找到影响最大的特征（列）"
   ]
  },
  {
   "cell_type": "code",
   "execution_count": 49,
   "metadata": {},
   "outputs": [],
   "source": [
    "from sklearn.preprocessing import Normalizer"
   ]
  },
  {
   "cell_type": "code",
   "execution_count": 53,
   "metadata": {},
   "outputs": [
    {
     "data": {
      "text/plain": [
       "array([[ 1.],\n",
       "       [ 1.],\n",
       "       [ 1.],\n",
       "       [-1.],\n",
       "       [ 1.]])"
      ]
     },
     "execution_count": 53,
     "metadata": {},
     "output_type": "execute_result"
    }
   ],
   "source": [
    "# 正规化是对行处理的\n",
    "Normalizer(norm='l1').fit_transform(np.array([1,1,3,-1,2]).reshape(-1,1))"
   ]
  },
  {
   "cell_type": "code",
   "execution_count": 56,
   "metadata": {},
   "outputs": [
    {
     "data": {
      "text/plain": [
       "array([[ 0.125,  0.125,  0.375, -0.125,  0.25 ]])"
      ]
     },
     "execution_count": 56,
     "metadata": {},
     "output_type": "execute_result"
    }
   ],
   "source": [
    "Normalizer(norm='l1').fit_transform(np.array([[1,1,3,-1,2]]))"
   ]
  },
  {
   "cell_type": "code",
   "execution_count": 57,
   "metadata": {},
   "outputs": [
    {
     "data": {
      "text/plain": [
       "array([[ 0.25,  0.25,  0.75, -0.25,  0.5 ]])"
      ]
     },
     "execution_count": 57,
     "metadata": {},
     "output_type": "execute_result"
    }
   ],
   "source": [
    "Normalizer(norm='l2').fit_transform(np.array([[1,1,3,-1,2]]))"
   ]
  },
  {
   "cell_type": "markdown",
   "metadata": {},
   "source": [
    "## 特征降维\n",
    "<img src='./image/5.11.png' width=500 />\n",
    "<img src='./image/5.11_2.png' width=500 />\n",
    "LDA思路：\n",
    "<img src='./image/5.11_3.png' width=500 />\n",
    "<img src='./image/5.11_4.png' width=500 />\n",
    "<img src='./image/5.11_5.png' width=500 />\n",
    "求出最优的$\\omega$后正规化处理，将比较小的$\\omega$对应的分量去掉，达到降维的目的。\n",
    "如图，本来散点的两个特征为x,y，现在经过$\\omega$变换成(x',y')，发现平行于分界线的y'坐标对分类意义不大，因此去掉，只保留x'一个特征。"
   ]
  },
  {
   "cell_type": "code",
   "execution_count": 58,
   "metadata": {},
   "outputs": [],
   "source": [
    "from sklearn.discriminant_analysis import LinearDiscriminantAnalysis"
   ]
  },
  {
   "cell_type": "code",
   "execution_count": 59,
   "metadata": {},
   "outputs": [],
   "source": [
    "X=np.array([[-1,-1],[-2,-1],[-3,-2],[1,1],[2,1],[3,2]])\n",
    "Y=np.array([1,1,1,2,2,2])"
   ]
  },
  {
   "cell_type": "code",
   "execution_count": 60,
   "metadata": {},
   "outputs": [
    {
     "data": {
      "text/plain": [
       "array([[-1.73205081],\n",
       "       [-1.73205081],\n",
       "       [-3.46410162],\n",
       "       [ 1.73205081],\n",
       "       [ 1.73205081],\n",
       "       [ 3.46410162]])"
      ]
     },
     "execution_count": 60,
     "metadata": {},
     "output_type": "execute_result"
    }
   ],
   "source": [
    "LinearDiscriminantAnalysis(n_components=1).fit_transform(X,Y)"
   ]
  },
  {
   "cell_type": "code",
   "execution_count": 61,
   "metadata": {},
   "outputs": [],
   "source": [
    "# LDA降维 当做判别器使用（Fisher判别器）\n",
    "clf=LinearDiscriminantAnalysis(n_components=1).fit(X,Y)"
   ]
  },
  {
   "cell_type": "code",
   "execution_count": 63,
   "metadata": {},
   "outputs": [
    {
     "data": {
      "text/plain": [
       "array([2])"
      ]
     },
     "execution_count": 63,
     "metadata": {},
     "output_type": "execute_result"
    }
   ],
   "source": [
    "clf.predict([[0.8,1]])"
   ]
  },
  {
   "cell_type": "markdown",
   "metadata": {},
   "source": [
    "【0.8,1】分类进Y=2的类别。"
   ]
  },
  {
   "cell_type": "markdown",
   "metadata": {},
   "source": [
    "## 实战：对HR表特征处理"
   ]
  },
  {
   "cell_type": "code",
   "execution_count": 64,
   "metadata": {},
   "outputs": [],
   "source": [
    "import pandas as pd\n",
    "import numpy as np\n",
    "from sklearn.preprocessing import MinMaxScaler,StandardScaler\n",
    "from sklearn.preprocessing import LabelEncoder,OneHotEncoder\n",
    "from sklearn.preprocessing import Normalizer\n",
    "from sklearn.discriminant_analysis import LinearDiscriminantAnalysis"
   ]
  },
  {
   "cell_type": "code",
   "execution_count": 82,
   "metadata": {},
   "outputs": [
    {
     "name": "stdout",
     "output_type": "stream",
     "text": [
      "       satisfaction_level  last_evaluation  number_project  \\\n",
      "0               -0.936495             0.53               2   \n",
      "1                0.752814             0.86               5   \n",
      "2               -2.022479             0.88               7   \n",
      "3                0.431041             0.87               5   \n",
      "4               -0.976716             0.52               2   \n",
      "5               -0.815830             0.50               2   \n",
      "6               -2.062701             0.77               6   \n",
      "7                1.235474             0.85               5   \n",
      "8                1.114809             1.00               5   \n",
      "9               -0.775608             0.53               2   \n",
      "10              -0.654943             0.54               2   \n",
      "11              -2.022479             0.81               6   \n",
      "12               0.913701             0.92               4   \n",
      "13              -0.815830             0.55               2   \n",
      "14              -1.016938             0.56               2   \n",
      "15              -0.936495             0.54               2   \n",
      "16              -0.654943             0.47               2   \n",
      "17               0.672371             0.99               4   \n",
      "18              -0.654943             0.51               2   \n",
      "19               0.591928             0.89               5   \n",
      "20              -2.022479             0.83               6   \n",
      "21              -0.936495             0.55               2   \n",
      "22              -2.102922             0.95               6   \n",
      "23              -0.614722             0.57               2   \n",
      "24              -0.856051             0.53               2   \n",
      "25               1.114809             0.92               5   \n",
      "26               0.833258             0.87               4   \n",
      "27              -0.856051             0.49               2   \n",
      "28              -0.815830             0.46               2   \n",
      "29              -0.936495             0.50               2   \n",
      "...                   ...              ...             ...   \n",
      "14969           -0.735386             0.46               2   \n",
      "14970            0.672371             0.93               4   \n",
      "14971           -0.896273             0.45               2   \n",
      "14972           -2.022479             0.97               6   \n",
      "14973           -1.016938             0.52               2   \n",
      "14974           -1.016938             0.54               2   \n",
      "14975           -2.062701             0.79               7   \n",
      "14976           -0.856051             0.47               2   \n",
      "14977            0.793036             0.85               4   \n",
      "14978           -0.856051             0.47               2   \n",
      "14979           -2.102922             0.93               6   \n",
      "14980            0.591928             0.89               5   \n",
      "14981            0.471263             0.93               5   \n",
      "14982           -0.936495             0.49               2   \n",
      "14983            0.431041             0.84               5   \n",
      "14984           -0.856051             0.56               2   \n",
      "14985            1.195252             0.99               5   \n",
      "14986            0.953923             0.85               4   \n",
      "14987            1.155031             0.70               5   \n",
      "14988           -0.614722             0.55               2   \n",
      "14989           -0.735386             0.57               2   \n",
      "14990            1.114809             0.88               5   \n",
      "14991           -2.102922             0.81               6   \n",
      "14992           -0.856051             0.48               2   \n",
      "14993            0.591928             0.83               6   \n",
      "14994           -0.856051             0.57               2   \n",
      "14995           -0.976716             0.48               2   \n",
      "14996           -0.976716             0.53               2   \n",
      "14997           -2.022479             0.96               6   \n",
      "14998           -0.976716             0.52               2   \n",
      "\n",
      "       average_monthly_hours  time_spend_company  Work_accident  \\\n",
      "0                        157                   3              0   \n",
      "1                        262                   6              0   \n",
      "2                        272                   4              0   \n",
      "3                        223                   5              0   \n",
      "4                        159                   3              0   \n",
      "5                        153                   3              0   \n",
      "6                        247                   4              0   \n",
      "7                        259                   5              0   \n",
      "8                        224                   5              0   \n",
      "9                        142                   3              0   \n",
      "10                       135                   3              0   \n",
      "11                       305                   4              0   \n",
      "12                       234                   5              0   \n",
      "13                       148                   3              0   \n",
      "14                       137                   3              0   \n",
      "15                       143                   3              0   \n",
      "16                       160                   3              0   \n",
      "17                       255                   6              0   \n",
      "18                       160                   3              1   \n",
      "19                       262                   5              0   \n",
      "20                       282                   4              0   \n",
      "21                       147                   3              0   \n",
      "22                       304                   4              0   \n",
      "23                       139                   3              0   \n",
      "24                       158                   3              0   \n",
      "25                       242                   5              0   \n",
      "26                       239                   5              0   \n",
      "27                       135                   3              0   \n",
      "28                       128                   3              0   \n",
      "29                       132                   3              0   \n",
      "...                      ...                 ...            ...   \n",
      "14969                    157                   3              0   \n",
      "14970                    225                   5              0   \n",
      "14971                    140                   3              0   \n",
      "14972                    310                   4              0   \n",
      "14973                    143                   3              0   \n",
      "14974                    153                   3              0   \n",
      "14975                    310                   4              0   \n",
      "14976                    136                   3              0   \n",
      "14977                    251                   6              0   \n",
      "14978                    144                   3              0   \n",
      "14979                    296                   4              0   \n",
      "14980                    238                   5              0   \n",
      "14981                    162                   4              0   \n",
      "14982                    137                   3              0   \n",
      "14983                    257                   5              0   \n",
      "14984                    148                   3              0   \n",
      "14985                    254                   5              0   \n",
      "14986                    247                   6              0   \n",
      "14987                    206                   4              0   \n",
      "14988                    145                   3              0   \n",
      "14989                    159                   3              1   \n",
      "14990                    228                   5              1   \n",
      "14991                    257                   4              0   \n",
      "14992                    155                   3              0   \n",
      "14993                    293                   6              0   \n",
      "14994                    151                   3              0   \n",
      "14995                    160                   3              0   \n",
      "14996                    143                   3              0   \n",
      "14997                    280                   4              0   \n",
      "14998                    158                   3              0   \n",
      "\n",
      "       promotion_last_5years  department  salary  \n",
      "0                          0       sales     low  \n",
      "1                          0       sales  medium  \n",
      "2                          0       sales  medium  \n",
      "3                          0       sales     low  \n",
      "4                          0       sales     low  \n",
      "5                          0       sales     low  \n",
      "6                          0       sales     low  \n",
      "7                          0       sales     low  \n",
      "8                          0       sales     low  \n",
      "9                          0       sales     low  \n",
      "10                         0       sales     low  \n",
      "11                         0       sales     low  \n",
      "12                         0       sales     low  \n",
      "13                         0       sales     low  \n",
      "14                         0       sales     low  \n",
      "15                         0       sales     low  \n",
      "16                         0       sales     low  \n",
      "17                         0       sales     low  \n",
      "18                         1       sales     low  \n",
      "19                         0       sales     low  \n",
      "20                         0       sales     low  \n",
      "21                         0       sales     low  \n",
      "22                         0       sales     low  \n",
      "23                         0       sales     low  \n",
      "24                         0       sales     low  \n",
      "25                         0       sales     low  \n",
      "26                         0       sales     low  \n",
      "27                         0       sales     low  \n",
      "28                         0  accounting     low  \n",
      "29                         0  accounting     low  \n",
      "...                      ...         ...     ...  \n",
      "14969                      0       sales  medium  \n",
      "14970                      0       sales  medium  \n",
      "14971                      0       sales  medium  \n",
      "14972                      0  accounting  medium  \n",
      "14973                      0  accounting  medium  \n",
      "14974                      0  accounting  medium  \n",
      "14975                      0          hr  medium  \n",
      "14976                      0          hr  medium  \n",
      "14977                      0          hr  medium  \n",
      "14978                      0          hr  medium  \n",
      "14979                      0   technical  medium  \n",
      "14980                      0   technical    high  \n",
      "14981                      0   technical     low  \n",
      "14982                      0   technical  medium  \n",
      "14983                      0   technical  medium  \n",
      "14984                      0   technical  medium  \n",
      "14985                      0   technical  medium  \n",
      "14986                      0   technical     low  \n",
      "14987                      0   technical     low  \n",
      "14988                      0   technical     low  \n",
      "14989                      0   technical     low  \n",
      "14990                      0     support     low  \n",
      "14991                      0     support     low  \n",
      "14992                      0     support     low  \n",
      "14993                      0     support     low  \n",
      "14994                      0     support     low  \n",
      "14995                      0     support     low  \n",
      "14996                      0     support     low  \n",
      "14997                      0     support     low  \n",
      "14998                      0     support     low  \n",
      "\n",
      "[14999 rows x 9 columns]\n"
     ]
    }
   ],
   "source": [
    "# sl:satisfaction_level——False:MinMaxScaler;True:StandardScaler\n",
    "def hr_preprocessing(sl=False):\n",
    "    df=pd.read_csv('./data/HR.csv')\n",
    "    # 1、得到标注\n",
    "    label=df['left']\n",
    "    df=df.drop('left',axis=1)\n",
    "    # 2、清洗数据\n",
    "    df=df.dropna(subset=['satisfaction_level','last_evaluation'])\n",
    "    df=df[df['satisfaction_level']<=1][df['salary']!='nme']\n",
    "    # 3、特征选择\n",
    "    # 4、特征处理\n",
    "    scaler_lst=[sl]\n",
    "    column_lst=['satisfaction_level']\n",
    "    for i in range(len(scaler_lst)):\n",
    "        if not scaler_lst[i]:\n",
    "            df[column_lst[i]]=MinMaxScaler().fit_transform(df[column_lst[i]].values.reshape(-1,1)).reshape(1,-1)[0]\n",
    "        else:\n",
    "            df[column_lst[i]]=StandardScaler().fit_transform(df[column_lst[i]].values.reshape(-1,1)).reshape(1,-1)[0]\n",
    "    return df\n",
    "\n",
    "print(hr_preprocessing(sl=True))"
   ]
  },
  {
   "cell_type": "code",
   "execution_count": 91,
   "metadata": {},
   "outputs": [
    {
     "name": "stdout",
     "output_type": "stream",
     "text": [
      "       satisfaction_level  last_evaluation  number_project  \\\n",
      "0               -0.936495        -1.087275             0.0   \n",
      "1                0.752814         0.840707             0.6   \n",
      "2               -2.022479         0.957554             1.0   \n",
      "3                0.431041         0.899131             0.6   \n",
      "4               -0.976716        -1.145699             0.0   \n",
      "5               -0.815830        -1.262546             0.0   \n",
      "6               -2.062701         0.314894             0.8   \n",
      "7                1.235474         0.782283             0.6   \n",
      "8                1.114809         1.658639             0.6   \n",
      "9               -0.775608        -1.087275             0.0   \n",
      "10              -0.654943        -1.028852             0.0   \n",
      "11              -2.022479         0.548588             0.8   \n",
      "12               0.913701         1.191249             0.4   \n",
      "13              -0.815830        -0.970428             0.0   \n",
      "14              -1.016938        -0.912004             0.0   \n",
      "15              -0.936495        -1.028852             0.0   \n",
      "16              -0.654943        -1.437818             0.0   \n",
      "17               0.672371         1.600215             0.4   \n",
      "18              -0.654943        -1.204123             0.0   \n",
      "19               0.591928         1.015978             0.6   \n",
      "20              -2.022479         0.665436             0.8   \n",
      "21              -0.936495        -0.970428             0.0   \n",
      "22              -2.102922         1.366520             0.8   \n",
      "23              -0.614722        -0.853580             0.0   \n",
      "24              -0.856051        -1.087275             0.0   \n",
      "25               1.114809         1.191249             0.6   \n",
      "26               0.833258         0.899131             0.4   \n",
      "27              -0.856051        -1.320970             0.0   \n",
      "28              -0.815830        -1.496241             0.0   \n",
      "29              -0.936495        -1.262546             0.0   \n",
      "...                   ...              ...             ...   \n",
      "14969           -0.735386        -1.496241             0.0   \n",
      "14970            0.672371         1.249673             0.4   \n",
      "14971           -0.896273        -1.554665             0.0   \n",
      "14972           -2.022479         1.483368             0.8   \n",
      "14973           -1.016938        -1.145699             0.0   \n",
      "14974           -1.016938        -1.028852             0.0   \n",
      "14975           -2.062701         0.431741             1.0   \n",
      "14976           -0.856051        -1.437818             0.0   \n",
      "14977            0.793036         0.782283             0.4   \n",
      "14978           -0.856051        -1.437818             0.0   \n",
      "14979           -2.102922         1.249673             0.8   \n",
      "14980            0.591928         1.015978             0.6   \n",
      "14981            0.471263         1.249673             0.6   \n",
      "14982           -0.936495        -1.320970             0.0   \n",
      "14983            0.431041         0.723860             0.6   \n",
      "14984           -0.856051        -0.912004             0.0   \n",
      "14985            1.195252         1.600215             0.6   \n",
      "14986            0.953923         0.782283             0.4   \n",
      "14987            1.155031        -0.094072             0.6   \n",
      "14988           -0.614722        -0.970428             0.0   \n",
      "14989           -0.735386        -0.853580             0.0   \n",
      "14990            1.114809         0.957554             0.6   \n",
      "14991           -2.102922         0.548588             0.8   \n",
      "14992           -0.856051        -1.379394             0.0   \n",
      "14993            0.591928         0.665436             0.8   \n",
      "14994           -0.856051        -0.853580             0.0   \n",
      "14995           -0.976716        -1.379394             0.0   \n",
      "14996           -0.976716        -1.087275             0.0   \n",
      "14997           -2.022479         1.424944             0.8   \n",
      "14998           -0.976716        -1.145699             0.0   \n",
      "\n",
      "       average_monthly_hours  time_spend_company  Work_accident  \\\n",
      "0                   0.285047               0.125            0.0   \n",
      "1                   0.775701               0.500            0.0   \n",
      "2                   0.822430               0.250            0.0   \n",
      "3                   0.593458               0.375            0.0   \n",
      "4                   0.294393               0.125            0.0   \n",
      "5                   0.266355               0.125            0.0   \n",
      "6                   0.705607               0.250            0.0   \n",
      "7                   0.761682               0.375            0.0   \n",
      "8                   0.598131               0.375            0.0   \n",
      "9                   0.214953               0.125            0.0   \n",
      "10                  0.182243               0.125            0.0   \n",
      "11                  0.976636               0.250            0.0   \n",
      "12                  0.644860               0.375            0.0   \n",
      "13                  0.242991               0.125            0.0   \n",
      "14                  0.191589               0.125            0.0   \n",
      "15                  0.219626               0.125            0.0   \n",
      "16                  0.299065               0.125            0.0   \n",
      "17                  0.742991               0.500            0.0   \n",
      "18                  0.299065               0.125            1.0   \n",
      "19                  0.775701               0.375            0.0   \n",
      "20                  0.869159               0.250            0.0   \n",
      "21                  0.238318               0.125            0.0   \n",
      "22                  0.971963               0.250            0.0   \n",
      "23                  0.200935               0.125            0.0   \n",
      "24                  0.289720               0.125            0.0   \n",
      "25                  0.682243               0.375            0.0   \n",
      "26                  0.668224               0.375            0.0   \n",
      "27                  0.182243               0.125            0.0   \n",
      "28                  0.149533               0.125            0.0   \n",
      "29                  0.168224               0.125            0.0   \n",
      "...                      ...                 ...            ...   \n",
      "14969               0.285047               0.125            0.0   \n",
      "14970               0.602804               0.375            0.0   \n",
      "14971               0.205607               0.125            0.0   \n",
      "14972               1.000000               0.250            0.0   \n",
      "14973               0.219626               0.125            0.0   \n",
      "14974               0.266355               0.125            0.0   \n",
      "14975               1.000000               0.250            0.0   \n",
      "14976               0.186916               0.125            0.0   \n",
      "14977               0.724299               0.500            0.0   \n",
      "14978               0.224299               0.125            0.0   \n",
      "14979               0.934579               0.250            0.0   \n",
      "14980               0.663551               0.375            0.0   \n",
      "14981               0.308411               0.250            0.0   \n",
      "14982               0.191589               0.125            0.0   \n",
      "14983               0.752336               0.375            0.0   \n",
      "14984               0.242991               0.125            0.0   \n",
      "14985               0.738318               0.375            0.0   \n",
      "14986               0.705607               0.500            0.0   \n",
      "14987               0.514019               0.250            0.0   \n",
      "14988               0.228972               0.125            0.0   \n",
      "14989               0.294393               0.125            1.0   \n",
      "14990               0.616822               0.375            1.0   \n",
      "14991               0.752336               0.250            0.0   \n",
      "14992               0.275701               0.125            0.0   \n",
      "14993               0.920561               0.500            0.0   \n",
      "14994               0.257009               0.125            0.0   \n",
      "14995               0.299065               0.125            0.0   \n",
      "14996               0.219626               0.125            0.0   \n",
      "14997               0.859813               0.250            0.0   \n",
      "14998               0.289720               0.125            0.0   \n",
      "\n",
      "       promotion_last_5years  salary  department_IT  department_RandD  \\\n",
      "0                        0.0     0.0              0                 0   \n",
      "1                        0.0     0.5              0                 0   \n",
      "2                        0.0     0.5              0                 0   \n",
      "3                        0.0     0.0              0                 0   \n",
      "4                        0.0     0.0              0                 0   \n",
      "5                        0.0     0.0              0                 0   \n",
      "6                        0.0     0.0              0                 0   \n",
      "7                        0.0     0.0              0                 0   \n",
      "8                        0.0     0.0              0                 0   \n",
      "9                        0.0     0.0              0                 0   \n",
      "10                       0.0     0.0              0                 0   \n",
      "11                       0.0     0.0              0                 0   \n",
      "12                       0.0     0.0              0                 0   \n",
      "13                       0.0     0.0              0                 0   \n",
      "14                       0.0     0.0              0                 0   \n",
      "15                       0.0     0.0              0                 0   \n",
      "16                       0.0     0.0              0                 0   \n",
      "17                       0.0     0.0              0                 0   \n",
      "18                       1.0     0.0              0                 0   \n",
      "19                       0.0     0.0              0                 0   \n",
      "20                       0.0     0.0              0                 0   \n",
      "21                       0.0     0.0              0                 0   \n",
      "22                       0.0     0.0              0                 0   \n",
      "23                       0.0     0.0              0                 0   \n",
      "24                       0.0     0.0              0                 0   \n",
      "25                       0.0     0.0              0                 0   \n",
      "26                       0.0     0.0              0                 0   \n",
      "27                       0.0     0.0              0                 0   \n",
      "28                       0.0     0.0              0                 0   \n",
      "29                       0.0     0.0              0                 0   \n",
      "...                      ...     ...            ...               ...   \n",
      "14969                    0.0     0.5              0                 0   \n",
      "14970                    0.0     0.5              0                 0   \n",
      "14971                    0.0     0.5              0                 0   \n",
      "14972                    0.0     0.5              0                 0   \n",
      "14973                    0.0     0.5              0                 0   \n",
      "14974                    0.0     0.5              0                 0   \n",
      "14975                    0.0     0.5              0                 0   \n",
      "14976                    0.0     0.5              0                 0   \n",
      "14977                    0.0     0.5              0                 0   \n",
      "14978                    0.0     0.5              0                 0   \n",
      "14979                    0.0     0.5              0                 0   \n",
      "14980                    0.0     1.0              0                 0   \n",
      "14981                    0.0     0.0              0                 0   \n",
      "14982                    0.0     0.5              0                 0   \n",
      "14983                    0.0     0.5              0                 0   \n",
      "14984                    0.0     0.5              0                 0   \n",
      "14985                    0.0     0.5              0                 0   \n",
      "14986                    0.0     0.0              0                 0   \n",
      "14987                    0.0     0.0              0                 0   \n",
      "14988                    0.0     0.0              0                 0   \n",
      "14989                    0.0     0.0              0                 0   \n",
      "14990                    0.0     0.0              0                 0   \n",
      "14991                    0.0     0.0              0                 0   \n",
      "14992                    0.0     0.0              0                 0   \n",
      "14993                    0.0     0.0              0                 0   \n",
      "14994                    0.0     0.0              0                 0   \n",
      "14995                    0.0     0.0              0                 0   \n",
      "14996                    0.0     0.0              0                 0   \n",
      "14997                    0.0     0.0              0                 0   \n",
      "14998                    0.0     0.0              0                 0   \n",
      "\n",
      "       department_accounting  department_hr  department_management  \\\n",
      "0                          0              0                      0   \n",
      "1                          0              0                      0   \n",
      "2                          0              0                      0   \n",
      "3                          0              0                      0   \n",
      "4                          0              0                      0   \n",
      "5                          0              0                      0   \n",
      "6                          0              0                      0   \n",
      "7                          0              0                      0   \n",
      "8                          0              0                      0   \n",
      "9                          0              0                      0   \n",
      "10                         0              0                      0   \n",
      "11                         0              0                      0   \n",
      "12                         0              0                      0   \n",
      "13                         0              0                      0   \n",
      "14                         0              0                      0   \n",
      "15                         0              0                      0   \n",
      "16                         0              0                      0   \n",
      "17                         0              0                      0   \n",
      "18                         0              0                      0   \n",
      "19                         0              0                      0   \n",
      "20                         0              0                      0   \n",
      "21                         0              0                      0   \n",
      "22                         0              0                      0   \n",
      "23                         0              0                      0   \n",
      "24                         0              0                      0   \n",
      "25                         0              0                      0   \n",
      "26                         0              0                      0   \n",
      "27                         0              0                      0   \n",
      "28                         1              0                      0   \n",
      "29                         1              0                      0   \n",
      "...                      ...            ...                    ...   \n",
      "14969                      0              0                      0   \n",
      "14970                      0              0                      0   \n",
      "14971                      0              0                      0   \n",
      "14972                      1              0                      0   \n",
      "14973                      1              0                      0   \n",
      "14974                      1              0                      0   \n",
      "14975                      0              1                      0   \n",
      "14976                      0              1                      0   \n",
      "14977                      0              1                      0   \n",
      "14978                      0              1                      0   \n",
      "14979                      0              0                      0   \n",
      "14980                      0              0                      0   \n",
      "14981                      0              0                      0   \n",
      "14982                      0              0                      0   \n",
      "14983                      0              0                      0   \n",
      "14984                      0              0                      0   \n",
      "14985                      0              0                      0   \n",
      "14986                      0              0                      0   \n",
      "14987                      0              0                      0   \n",
      "14988                      0              0                      0   \n",
      "14989                      0              0                      0   \n",
      "14990                      0              0                      0   \n",
      "14991                      0              0                      0   \n",
      "14992                      0              0                      0   \n",
      "14993                      0              0                      0   \n",
      "14994                      0              0                      0   \n",
      "14995                      0              0                      0   \n",
      "14996                      0              0                      0   \n",
      "14997                      0              0                      0   \n",
      "14998                      0              0                      0   \n",
      "\n",
      "       department_marketing  department_product_mng  department_sales  \\\n",
      "0                         0                       0                 1   \n",
      "1                         0                       0                 1   \n",
      "2                         0                       0                 1   \n",
      "3                         0                       0                 1   \n",
      "4                         0                       0                 1   \n",
      "5                         0                       0                 1   \n",
      "6                         0                       0                 1   \n",
      "7                         0                       0                 1   \n",
      "8                         0                       0                 1   \n",
      "9                         0                       0                 1   \n",
      "10                        0                       0                 1   \n",
      "11                        0                       0                 1   \n",
      "12                        0                       0                 1   \n",
      "13                        0                       0                 1   \n",
      "14                        0                       0                 1   \n",
      "15                        0                       0                 1   \n",
      "16                        0                       0                 1   \n",
      "17                        0                       0                 1   \n",
      "18                        0                       0                 1   \n",
      "19                        0                       0                 1   \n",
      "20                        0                       0                 1   \n",
      "21                        0                       0                 1   \n",
      "22                        0                       0                 1   \n",
      "23                        0                       0                 1   \n",
      "24                        0                       0                 1   \n",
      "25                        0                       0                 1   \n",
      "26                        0                       0                 1   \n",
      "27                        0                       0                 1   \n",
      "28                        0                       0                 0   \n",
      "29                        0                       0                 0   \n",
      "...                     ...                     ...               ...   \n",
      "14969                     0                       0                 1   \n",
      "14970                     0                       0                 1   \n",
      "14971                     0                       0                 1   \n",
      "14972                     0                       0                 0   \n",
      "14973                     0                       0                 0   \n",
      "14974                     0                       0                 0   \n",
      "14975                     0                       0                 0   \n",
      "14976                     0                       0                 0   \n",
      "14977                     0                       0                 0   \n",
      "14978                     0                       0                 0   \n",
      "14979                     0                       0                 0   \n",
      "14980                     0                       0                 0   \n",
      "14981                     0                       0                 0   \n",
      "14982                     0                       0                 0   \n",
      "14983                     0                       0                 0   \n",
      "14984                     0                       0                 0   \n",
      "14985                     0                       0                 0   \n",
      "14986                     0                       0                 0   \n",
      "14987                     0                       0                 0   \n",
      "14988                     0                       0                 0   \n",
      "14989                     0                       0                 0   \n",
      "14990                     0                       0                 0   \n",
      "14991                     0                       0                 0   \n",
      "14992                     0                       0                 0   \n",
      "14993                     0                       0                 0   \n",
      "14994                     0                       0                 0   \n",
      "14995                     0                       0                 0   \n",
      "14996                     0                       0                 0   \n",
      "14997                     0                       0                 0   \n",
      "14998                     0                       0                 0   \n",
      "\n",
      "       department_support  department_technical  \n",
      "0                       0                     0  \n",
      "1                       0                     0  \n",
      "2                       0                     0  \n",
      "3                       0                     0  \n",
      "4                       0                     0  \n",
      "5                       0                     0  \n",
      "6                       0                     0  \n",
      "7                       0                     0  \n",
      "8                       0                     0  \n",
      "9                       0                     0  \n",
      "10                      0                     0  \n",
      "11                      0                     0  \n",
      "12                      0                     0  \n",
      "13                      0                     0  \n",
      "14                      0                     0  \n",
      "15                      0                     0  \n",
      "16                      0                     0  \n",
      "17                      0                     0  \n",
      "18                      0                     0  \n",
      "19                      0                     0  \n",
      "20                      0                     0  \n",
      "21                      0                     0  \n",
      "22                      0                     0  \n",
      "23                      0                     0  \n",
      "24                      0                     0  \n",
      "25                      0                     0  \n",
      "26                      0                     0  \n",
      "27                      0                     0  \n",
      "28                      0                     0  \n",
      "29                      0                     0  \n",
      "...                   ...                   ...  \n",
      "14969                   0                     0  \n",
      "14970                   0                     0  \n",
      "14971                   0                     0  \n",
      "14972                   0                     0  \n",
      "14973                   0                     0  \n",
      "14974                   0                     0  \n",
      "14975                   0                     0  \n",
      "14976                   0                     0  \n",
      "14977                   0                     0  \n",
      "14978                   0                     0  \n",
      "14979                   0                     1  \n",
      "14980                   0                     1  \n",
      "14981                   0                     1  \n",
      "14982                   0                     1  \n",
      "14983                   0                     1  \n",
      "14984                   0                     1  \n",
      "14985                   0                     1  \n",
      "14986                   0                     1  \n",
      "14987                   0                     1  \n",
      "14988                   0                     1  \n",
      "14989                   0                     1  \n",
      "14990                   1                     0  \n",
      "14991                   1                     0  \n",
      "14992                   1                     0  \n",
      "14993                   1                     0  \n",
      "14994                   1                     0  \n",
      "14995                   1                     0  \n",
      "14996                   1                     0  \n",
      "14997                   1                     0  \n",
      "14998                   1                     0  \n",
      "\n",
      "[14999 rows x 18 columns]\n"
     ]
    },
    {
     "name": "stderr",
     "output_type": "stream",
     "text": [
      "D:\\anaconda\\64bit\\envs\\py3.6\\lib\\site-packages\\sklearn\\utils\\validation.py:444: DataConversionWarning: Data with input dtype int64 was converted to float64 by MinMaxScaler.\n",
      "  warnings.warn(msg, DataConversionWarning)\n"
     ]
    }
   ],
   "source": [
    "# sl:satisfaction_level——False:MinMaxScaler;True:StandardScaler\n",
    "# le:last_evaluation——False:MinMaxScaler;True:StandardScaler\n",
    "# npr:number_project——False:MinMaxScaler;True:StandardScaler\n",
    "# amh:average_monthly_hours——False:MinMaxScaler;True:StandardScaler\n",
    "# tsc:time_spend_company——False:MinMaxScaler;True:StandardScaler\n",
    "# wa:Work_accident——False:MinMaxScaler;True:StandardScaler\n",
    "# pl5:promotion_last_5years——False:MinMaxScaler;True:StandardScaler\n",
    "# dp:deparment——False:LabelEncoding;True:OneHotEncoding\n",
    "# slr:salary——False:LabelEncoding;True:OneHotEncoding\n",
    "def hr_preprocessing(sl=False,le=False,npr=False,amh=False,tsc=False,wa=False,pl5=False,dp=True,slr=False):\n",
    "    df=pd.read_csv('./data/HR.csv')\n",
    "    # 1、得到标注\n",
    "    label=df['left']\n",
    "    df=df.drop('left',axis=1)\n",
    "    # 2、清洗数据\n",
    "    df=df.dropna(subset=['satisfaction_level','last_evaluation'])\n",
    "    df=df[df['satisfaction_level']<=1][df['salary']!='nme']\n",
    "    # 3、特征选择\n",
    "    # 4、特征处理\n",
    "    scaler_lst=[sl,le,npr,amh,tsc,wa,pl5]\n",
    "    column_lst=['satisfaction_level','last_evaluation','number_project','average_monthly_hours',\n",
    "                'time_spend_company','Work_accident','promotion_last_5years']\n",
    "    for i in range(len(scaler_lst)):\n",
    "        if not scaler_lst[i]:\n",
    "            df[column_lst[i]]=MinMaxScaler().fit_transform(df[column_lst[i]].values.reshape(-1,1)).reshape(1,-1)[0]\n",
    "        else:\n",
    "            df[column_lst[i]]=StandardScaler().fit_transform(df[column_lst[i]].values.reshape(-1,1)).reshape(1,-1)[0]\n",
    "    scaler_lst=[dp,slr]\n",
    "    column_lst=['department','salary']\n",
    "    for i in range(len(scaler_lst)):\n",
    "        if not scaler_lst[i]:\n",
    "            if column_lst[i]=='salary':\n",
    "                # 由于LabelEncoding会按照字母顺序来确定0,1,2，破坏了low,med,high的顺序，所以需要重新定义一个函数map_salary               \n",
    "                df[column_lst[i]]=[map_salary(s) for s in df[column_lst[i]].values]\n",
    "            else:\n",
    "                df[column_lst[i]]=LabelEncoder().fit_transform(df[column_lst[i]])  \n",
    "            # LabelEncoding之后，进行一下归一化处理\n",
    "            df[column_lst[i]]=MinMaxScaler().fit_transform(df[column_lst[i]].values.reshape(-1,1)).reshape(1,-1)[0]\n",
    "        else:\n",
    "            # OneHot编码，可以直接用pandas里面的get_dummies\n",
    "            df=pd.get_dummies(df,columns=[column_lst[i]])\n",
    "    return df\n",
    "\n",
    "def map_salary(s):\n",
    "    d=dict([('low',0),('medium',1),('high',2)])\n",
    "    return d.get(s,0)  # 将low,med,high分别赋值0,1,2，如果没有找到则赋值为0\n",
    "    \n",
    "print(hr_preprocessing(sl=True,le=True))"
   ]
  },
  {
   "cell_type": "markdown",
   "metadata": {},
   "source": [
    "接下来考虑一下需不需要降维。"
   ]
  },
  {
   "cell_type": "code",
   "execution_count": 92,
   "metadata": {},
   "outputs": [],
   "source": [
    "from sklearn.decomposition import PCA"
   ]
  },
  {
   "cell_type": "code",
   "execution_count": 96,
   "metadata": {},
   "outputs": [
    {
     "name": "stdout",
     "output_type": "stream",
     "text": [
      "(       satisfaction_level  last_evaluation  number_project  \\\n",
      "0               -0.936495        -1.087275             0.0   \n",
      "1                0.752814         0.840707             0.6   \n",
      "2               -2.022479         0.957554             1.0   \n",
      "3                0.431041         0.899131             0.6   \n",
      "4               -0.976716        -1.145699             0.0   \n",
      "5               -0.815830        -1.262546             0.0   \n",
      "6               -2.062701         0.314894             0.8   \n",
      "7                1.235474         0.782283             0.6   \n",
      "8                1.114809         1.658639             0.6   \n",
      "9               -0.775608        -1.087275             0.0   \n",
      "10              -0.654943        -1.028852             0.0   \n",
      "11              -2.022479         0.548588             0.8   \n",
      "12               0.913701         1.191249             0.4   \n",
      "13              -0.815830        -0.970428             0.0   \n",
      "14              -1.016938        -0.912004             0.0   \n",
      "15              -0.936495        -1.028852             0.0   \n",
      "16              -0.654943        -1.437818             0.0   \n",
      "17               0.672371         1.600215             0.4   \n",
      "18              -0.654943        -1.204123             0.0   \n",
      "19               0.591928         1.015978             0.6   \n",
      "20              -2.022479         0.665436             0.8   \n",
      "21              -0.936495        -0.970428             0.0   \n",
      "22              -2.102922         1.366520             0.8   \n",
      "23              -0.614722        -0.853580             0.0   \n",
      "24              -0.856051        -1.087275             0.0   \n",
      "25               1.114809         1.191249             0.6   \n",
      "26               0.833258         0.899131             0.4   \n",
      "27              -0.856051        -1.320970             0.0   \n",
      "28              -0.815830        -1.496241             0.0   \n",
      "29              -0.936495        -1.262546             0.0   \n",
      "...                   ...              ...             ...   \n",
      "14969           -0.735386        -1.496241             0.0   \n",
      "14970            0.672371         1.249673             0.4   \n",
      "14971           -0.896273        -1.554665             0.0   \n",
      "14972           -2.022479         1.483368             0.8   \n",
      "14973           -1.016938        -1.145699             0.0   \n",
      "14974           -1.016938        -1.028852             0.0   \n",
      "14975           -2.062701         0.431741             1.0   \n",
      "14976           -0.856051        -1.437818             0.0   \n",
      "14977            0.793036         0.782283             0.4   \n",
      "14978           -0.856051        -1.437818             0.0   \n",
      "14979           -2.102922         1.249673             0.8   \n",
      "14980            0.591928         1.015978             0.6   \n",
      "14981            0.471263         1.249673             0.6   \n",
      "14982           -0.936495        -1.320970             0.0   \n",
      "14983            0.431041         0.723860             0.6   \n",
      "14984           -0.856051        -0.912004             0.0   \n",
      "14985            1.195252         1.600215             0.6   \n",
      "14986            0.953923         0.782283             0.4   \n",
      "14987            1.155031        -0.094072             0.6   \n",
      "14988           -0.614722        -0.970428             0.0   \n",
      "14989           -0.735386        -0.853580             0.0   \n",
      "14990            1.114809         0.957554             0.6   \n",
      "14991           -2.102922         0.548588             0.8   \n",
      "14992           -0.856051        -1.379394             0.0   \n",
      "14993            0.591928         0.665436             0.8   \n",
      "14994           -0.856051        -0.853580             0.0   \n",
      "14995           -0.976716        -1.379394             0.0   \n",
      "14996           -0.976716        -1.087275             0.0   \n",
      "14997           -2.022479         1.424944             0.8   \n",
      "14998           -0.976716        -1.145699             0.0   \n",
      "\n",
      "       average_monthly_hours  time_spend_company  Work_accident  \\\n",
      "0                   0.285047               0.125            0.0   \n",
      "1                   0.775701               0.500            0.0   \n",
      "2                   0.822430               0.250            0.0   \n",
      "3                   0.593458               0.375            0.0   \n",
      "4                   0.294393               0.125            0.0   \n",
      "5                   0.266355               0.125            0.0   \n",
      "6                   0.705607               0.250            0.0   \n",
      "7                   0.761682               0.375            0.0   \n",
      "8                   0.598131               0.375            0.0   \n",
      "9                   0.214953               0.125            0.0   \n",
      "10                  0.182243               0.125            0.0   \n",
      "11                  0.976636               0.250            0.0   \n",
      "12                  0.644860               0.375            0.0   \n",
      "13                  0.242991               0.125            0.0   \n",
      "14                  0.191589               0.125            0.0   \n",
      "15                  0.219626               0.125            0.0   \n",
      "16                  0.299065               0.125            0.0   \n",
      "17                  0.742991               0.500            0.0   \n",
      "18                  0.299065               0.125            1.0   \n",
      "19                  0.775701               0.375            0.0   \n",
      "20                  0.869159               0.250            0.0   \n",
      "21                  0.238318               0.125            0.0   \n",
      "22                  0.971963               0.250            0.0   \n",
      "23                  0.200935               0.125            0.0   \n",
      "24                  0.289720               0.125            0.0   \n",
      "25                  0.682243               0.375            0.0   \n",
      "26                  0.668224               0.375            0.0   \n",
      "27                  0.182243               0.125            0.0   \n",
      "28                  0.149533               0.125            0.0   \n",
      "29                  0.168224               0.125            0.0   \n",
      "...                      ...                 ...            ...   \n",
      "14969               0.285047               0.125            0.0   \n",
      "14970               0.602804               0.375            0.0   \n",
      "14971               0.205607               0.125            0.0   \n",
      "14972               1.000000               0.250            0.0   \n",
      "14973               0.219626               0.125            0.0   \n",
      "14974               0.266355               0.125            0.0   \n",
      "14975               1.000000               0.250            0.0   \n",
      "14976               0.186916               0.125            0.0   \n",
      "14977               0.724299               0.500            0.0   \n",
      "14978               0.224299               0.125            0.0   \n",
      "14979               0.934579               0.250            0.0   \n",
      "14980               0.663551               0.375            0.0   \n",
      "14981               0.308411               0.250            0.0   \n",
      "14982               0.191589               0.125            0.0   \n",
      "14983               0.752336               0.375            0.0   \n",
      "14984               0.242991               0.125            0.0   \n",
      "14985               0.738318               0.375            0.0   \n",
      "14986               0.705607               0.500            0.0   \n",
      "14987               0.514019               0.250            0.0   \n",
      "14988               0.228972               0.125            0.0   \n",
      "14989               0.294393               0.125            1.0   \n",
      "14990               0.616822               0.375            1.0   \n",
      "14991               0.752336               0.250            0.0   \n",
      "14992               0.275701               0.125            0.0   \n",
      "14993               0.920561               0.500            0.0   \n",
      "14994               0.257009               0.125            0.0   \n",
      "14995               0.299065               0.125            0.0   \n",
      "14996               0.219626               0.125            0.0   \n",
      "14997               0.859813               0.250            0.0   \n",
      "14998               0.289720               0.125            0.0   \n",
      "\n",
      "       promotion_last_5years  salary  department_IT  department_RandD  \\\n",
      "0                        0.0     0.0              0                 0   \n",
      "1                        0.0     0.5              0                 0   \n",
      "2                        0.0     0.5              0                 0   \n",
      "3                        0.0     0.0              0                 0   \n",
      "4                        0.0     0.0              0                 0   \n",
      "5                        0.0     0.0              0                 0   \n",
      "6                        0.0     0.0              0                 0   \n",
      "7                        0.0     0.0              0                 0   \n",
      "8                        0.0     0.0              0                 0   \n",
      "9                        0.0     0.0              0                 0   \n",
      "10                       0.0     0.0              0                 0   \n",
      "11                       0.0     0.0              0                 0   \n",
      "12                       0.0     0.0              0                 0   \n",
      "13                       0.0     0.0              0                 0   \n",
      "14                       0.0     0.0              0                 0   \n",
      "15                       0.0     0.0              0                 0   \n",
      "16                       0.0     0.0              0                 0   \n",
      "17                       0.0     0.0              0                 0   \n",
      "18                       1.0     0.0              0                 0   \n",
      "19                       0.0     0.0              0                 0   \n",
      "20                       0.0     0.0              0                 0   \n",
      "21                       0.0     0.0              0                 0   \n",
      "22                       0.0     0.0              0                 0   \n",
      "23                       0.0     0.0              0                 0   \n",
      "24                       0.0     0.0              0                 0   \n",
      "25                       0.0     0.0              0                 0   \n",
      "26                       0.0     0.0              0                 0   \n",
      "27                       0.0     0.0              0                 0   \n",
      "28                       0.0     0.0              0                 0   \n",
      "29                       0.0     0.0              0                 0   \n",
      "...                      ...     ...            ...               ...   \n",
      "14969                    0.0     0.5              0                 0   \n",
      "14970                    0.0     0.5              0                 0   \n",
      "14971                    0.0     0.5              0                 0   \n",
      "14972                    0.0     0.5              0                 0   \n",
      "14973                    0.0     0.5              0                 0   \n",
      "14974                    0.0     0.5              0                 0   \n",
      "14975                    0.0     0.5              0                 0   \n",
      "14976                    0.0     0.5              0                 0   \n",
      "14977                    0.0     0.5              0                 0   \n",
      "14978                    0.0     0.5              0                 0   \n",
      "14979                    0.0     0.5              0                 0   \n",
      "14980                    0.0     1.0              0                 0   \n",
      "14981                    0.0     0.0              0                 0   \n",
      "14982                    0.0     0.5              0                 0   \n",
      "14983                    0.0     0.5              0                 0   \n",
      "14984                    0.0     0.5              0                 0   \n",
      "14985                    0.0     0.5              0                 0   \n",
      "14986                    0.0     0.0              0                 0   \n",
      "14987                    0.0     0.0              0                 0   \n",
      "14988                    0.0     0.0              0                 0   \n",
      "14989                    0.0     0.0              0                 0   \n",
      "14990                    0.0     0.0              0                 0   \n",
      "14991                    0.0     0.0              0                 0   \n",
      "14992                    0.0     0.0              0                 0   \n",
      "14993                    0.0     0.0              0                 0   \n",
      "14994                    0.0     0.0              0                 0   \n",
      "14995                    0.0     0.0              0                 0   \n",
      "14996                    0.0     0.0              0                 0   \n",
      "14997                    0.0     0.0              0                 0   \n",
      "14998                    0.0     0.0              0                 0   \n",
      "\n",
      "       department_accounting  department_hr  department_management  \\\n",
      "0                          0              0                      0   \n",
      "1                          0              0                      0   \n",
      "2                          0              0                      0   \n",
      "3                          0              0                      0   \n",
      "4                          0              0                      0   \n",
      "5                          0              0                      0   \n",
      "6                          0              0                      0   \n",
      "7                          0              0                      0   \n",
      "8                          0              0                      0   \n",
      "9                          0              0                      0   \n",
      "10                         0              0                      0   \n",
      "11                         0              0                      0   \n",
      "12                         0              0                      0   \n",
      "13                         0              0                      0   \n",
      "14                         0              0                      0   \n",
      "15                         0              0                      0   \n",
      "16                         0              0                      0   \n",
      "17                         0              0                      0   \n",
      "18                         0              0                      0   \n",
      "19                         0              0                      0   \n",
      "20                         0              0                      0   \n",
      "21                         0              0                      0   \n",
      "22                         0              0                      0   \n",
      "23                         0              0                      0   \n",
      "24                         0              0                      0   \n",
      "25                         0              0                      0   \n",
      "26                         0              0                      0   \n",
      "27                         0              0                      0   \n",
      "28                         1              0                      0   \n",
      "29                         1              0                      0   \n",
      "...                      ...            ...                    ...   \n",
      "14969                      0              0                      0   \n",
      "14970                      0              0                      0   \n",
      "14971                      0              0                      0   \n",
      "14972                      1              0                      0   \n",
      "14973                      1              0                      0   \n",
      "14974                      1              0                      0   \n",
      "14975                      0              1                      0   \n",
      "14976                      0              1                      0   \n",
      "14977                      0              1                      0   \n",
      "14978                      0              1                      0   \n",
      "14979                      0              0                      0   \n",
      "14980                      0              0                      0   \n",
      "14981                      0              0                      0   \n",
      "14982                      0              0                      0   \n",
      "14983                      0              0                      0   \n",
      "14984                      0              0                      0   \n",
      "14985                      0              0                      0   \n",
      "14986                      0              0                      0   \n",
      "14987                      0              0                      0   \n",
      "14988                      0              0                      0   \n",
      "14989                      0              0                      0   \n",
      "14990                      0              0                      0   \n",
      "14991                      0              0                      0   \n",
      "14992                      0              0                      0   \n",
      "14993                      0              0                      0   \n",
      "14994                      0              0                      0   \n",
      "14995                      0              0                      0   \n",
      "14996                      0              0                      0   \n",
      "14997                      0              0                      0   \n",
      "14998                      0              0                      0   \n",
      "\n",
      "       department_marketing  department_product_mng  department_sales  \\\n",
      "0                         0                       0                 1   \n",
      "1                         0                       0                 1   \n",
      "2                         0                       0                 1   \n",
      "3                         0                       0                 1   \n",
      "4                         0                       0                 1   \n",
      "5                         0                       0                 1   \n",
      "6                         0                       0                 1   \n",
      "7                         0                       0                 1   \n",
      "8                         0                       0                 1   \n",
      "9                         0                       0                 1   \n",
      "10                        0                       0                 1   \n",
      "11                        0                       0                 1   \n",
      "12                        0                       0                 1   \n",
      "13                        0                       0                 1   \n",
      "14                        0                       0                 1   \n",
      "15                        0                       0                 1   \n",
      "16                        0                       0                 1   \n",
      "17                        0                       0                 1   \n",
      "18                        0                       0                 1   \n",
      "19                        0                       0                 1   \n",
      "20                        0                       0                 1   \n",
      "21                        0                       0                 1   \n",
      "22                        0                       0                 1   \n",
      "23                        0                       0                 1   \n",
      "24                        0                       0                 1   \n",
      "25                        0                       0                 1   \n",
      "26                        0                       0                 1   \n",
      "27                        0                       0                 1   \n",
      "28                        0                       0                 0   \n",
      "29                        0                       0                 0   \n",
      "...                     ...                     ...               ...   \n",
      "14969                     0                       0                 1   \n",
      "14970                     0                       0                 1   \n",
      "14971                     0                       0                 1   \n",
      "14972                     0                       0                 0   \n",
      "14973                     0                       0                 0   \n",
      "14974                     0                       0                 0   \n",
      "14975                     0                       0                 0   \n",
      "14976                     0                       0                 0   \n",
      "14977                     0                       0                 0   \n",
      "14978                     0                       0                 0   \n",
      "14979                     0                       0                 0   \n",
      "14980                     0                       0                 0   \n",
      "14981                     0                       0                 0   \n",
      "14982                     0                       0                 0   \n",
      "14983                     0                       0                 0   \n",
      "14984                     0                       0                 0   \n",
      "14985                     0                       0                 0   \n",
      "14986                     0                       0                 0   \n",
      "14987                     0                       0                 0   \n",
      "14988                     0                       0                 0   \n",
      "14989                     0                       0                 0   \n",
      "14990                     0                       0                 0   \n",
      "14991                     0                       0                 0   \n",
      "14992                     0                       0                 0   \n",
      "14993                     0                       0                 0   \n",
      "14994                     0                       0                 0   \n",
      "14995                     0                       0                 0   \n",
      "14996                     0                       0                 0   \n",
      "14997                     0                       0                 0   \n",
      "14998                     0                       0                 0   \n",
      "\n",
      "       department_support  department_technical  \n",
      "0                       0                     0  \n",
      "1                       0                     0  \n",
      "2                       0                     0  \n",
      "3                       0                     0  \n",
      "4                       0                     0  \n",
      "5                       0                     0  \n",
      "6                       0                     0  \n",
      "7                       0                     0  \n",
      "8                       0                     0  \n",
      "9                       0                     0  \n",
      "10                      0                     0  \n",
      "11                      0                     0  \n",
      "12                      0                     0  \n",
      "13                      0                     0  \n",
      "14                      0                     0  \n",
      "15                      0                     0  \n",
      "16                      0                     0  \n",
      "17                      0                     0  \n",
      "18                      0                     0  \n",
      "19                      0                     0  \n",
      "20                      0                     0  \n",
      "21                      0                     0  \n",
      "22                      0                     0  \n",
      "23                      0                     0  \n",
      "24                      0                     0  \n",
      "25                      0                     0  \n",
      "26                      0                     0  \n",
      "27                      0                     0  \n",
      "28                      0                     0  \n",
      "29                      0                     0  \n",
      "...                   ...                   ...  \n",
      "14969                   0                     0  \n",
      "14970                   0                     0  \n",
      "14971                   0                     0  \n",
      "14972                   0                     0  \n",
      "14973                   0                     0  \n",
      "14974                   0                     0  \n",
      "14975                   0                     0  \n",
      "14976                   0                     0  \n",
      "14977                   0                     0  \n",
      "14978                   0                     0  \n",
      "14979                   0                     1  \n",
      "14980                   0                     1  \n",
      "14981                   0                     1  \n",
      "14982                   0                     1  \n",
      "14983                   0                     1  \n",
      "14984                   0                     1  \n",
      "14985                   0                     1  \n",
      "14986                   0                     1  \n",
      "14987                   0                     1  \n",
      "14988                   0                     1  \n",
      "14989                   0                     1  \n",
      "14990                   1                     0  \n",
      "14991                   1                     0  \n",
      "14992                   1                     0  \n",
      "14993                   1                     0  \n",
      "14994                   1                     0  \n",
      "14995                   1                     0  \n",
      "14996                   1                     0  \n",
      "14997                   1                     0  \n",
      "14998                   1                     0  \n",
      "\n",
      "[14999 rows x 18 columns], 0        1\n",
      "1        1\n",
      "2        1\n",
      "3        1\n",
      "4        1\n",
      "5        1\n",
      "6        1\n",
      "7        1\n",
      "8        1\n",
      "9        1\n",
      "10       1\n",
      "11       1\n",
      "12       1\n",
      "13       1\n",
      "14       1\n",
      "15       1\n",
      "16       1\n",
      "17       1\n",
      "18       1\n",
      "19       1\n",
      "20       1\n",
      "21       1\n",
      "22       1\n",
      "23       1\n",
      "24       1\n",
      "25       1\n",
      "26       1\n",
      "27       1\n",
      "28       1\n",
      "29       1\n",
      "        ..\n",
      "14969    1\n",
      "14970    1\n",
      "14971    1\n",
      "14972    1\n",
      "14973    1\n",
      "14974    1\n",
      "14975    1\n",
      "14976    1\n",
      "14977    1\n",
      "14978    1\n",
      "14979    1\n",
      "14980    1\n",
      "14981    1\n",
      "14982    1\n",
      "14983    1\n",
      "14984    1\n",
      "14985    1\n",
      "14986    1\n",
      "14987    1\n",
      "14988    1\n",
      "14989    1\n",
      "14990    1\n",
      "14991    1\n",
      "14992    1\n",
      "14993    1\n",
      "14994    1\n",
      "14995    1\n",
      "14996    1\n",
      "14997    1\n",
      "14998    1\n",
      "Name: left, Length: 14999, dtype: int64)\n"
     ]
    },
    {
     "name": "stderr",
     "output_type": "stream",
     "text": [
      "D:\\anaconda\\64bit\\envs\\py3.6\\lib\\site-packages\\sklearn\\utils\\validation.py:444: DataConversionWarning: Data with input dtype int64 was converted to float64 by MinMaxScaler.\n",
      "  warnings.warn(msg, DataConversionWarning)\n"
     ]
    }
   ],
   "source": [
    "# sl:satisfaction_level——False:MinMaxScaler;True:StandardScaler\n",
    "# le:last_evaluation——False:MinMaxScaler;True:StandardScaler\n",
    "# npr:number_project——False:MinMaxScaler;True:StandardScaler\n",
    "# amh:average_monthly_hours——False:MinMaxScaler;True:StandardScaler\n",
    "# tsc:time_spend_company——False:MinMaxScaler;True:StandardScaler\n",
    "# wa:Work_accident——False:MinMaxScaler;True:StandardScaler\n",
    "# pl5:promotion_last_5years——False:MinMaxScaler;True:StandardScaler\n",
    "# dp:deparment——False:LabelEncoding;True:OneHotEncoding\n",
    "# slr:salary——False:LabelEncoding;True:OneHotEncoding\n",
    "# lower_d——False:NotlowerDimension\n",
    "# ld_n——to n dimensions\n",
    "def hr_preprocessing(sl=False,le=False,npr=False,amh=False,tsc=False,wa=False,pl5=False,dp=True,slr=False,\n",
    "                     lower_d=False,ld_n=1):\n",
    "    df=pd.read_csv('./data/HR.csv')\n",
    "    # 1、清洗数据\n",
    "    df=df.dropna(subset=['satisfaction_level','last_evaluation'])\n",
    "    df=df[df['satisfaction_level']<=1][df['salary']!='nme']\n",
    "    # 2、得到标注\n",
    "    label=df['left']\n",
    "    df=df.drop('left',axis=1)\n",
    "    # 3、特征选择(例子中的特征先全部保留)\n",
    "    # 4、特征处理\n",
    "    scaler_lst=[sl,le,npr,amh,tsc,wa,pl5]\n",
    "    column_lst=['satisfaction_level','last_evaluation','number_project','average_monthly_hours',\n",
    "                'time_spend_company','Work_accident','promotion_last_5years']\n",
    "    for i in range(len(scaler_lst)):\n",
    "        if not scaler_lst[i]:\n",
    "            df[column_lst[i]]=MinMaxScaler().fit_transform(df[column_lst[i]].values.reshape(-1,1)).reshape(1,-1)[0]\n",
    "        else:\n",
    "            df[column_lst[i]]=StandardScaler().fit_transform(df[column_lst[i]].values.reshape(-1,1)).reshape(1,-1)[0]\n",
    "    scaler_lst=[dp,slr]\n",
    "    column_lst=['department','salary']\n",
    "    for i in range(len(scaler_lst)):\n",
    "        if not scaler_lst[i]:\n",
    "            if column_lst[i]=='salary':\n",
    "                # 由于LabelEncoding会按照字母顺序来确定0,1,2，破坏了low,med,high的顺序，所以需要重新定义一个函数map_salary               \n",
    "                df[column_lst[i]]=[map_salary(s) for s in df[column_lst[i]].values]\n",
    "            else:\n",
    "                df[column_lst[i]]=LabelEncoder().fit_transform(df[column_lst[i]])  \n",
    "            # LabelEncoding之后，进行一下归一化处理\n",
    "            df[column_lst[i]]=MinMaxScaler().fit_transform(df[column_lst[i]].values.reshape(-1,1)).reshape(1,-1)[0]\n",
    "        else:\n",
    "            # OneHot编码，可以直接用pandas里面的get_dummies\n",
    "            df=pd.get_dummies(df,columns=[column_lst[i]])\n",
    "    if lower_d:\n",
    "        # PCA降维与标注Label无关，而LDA降维的n_components不能超过Label的类别（由于left只有0,1，故LDA只能降成1维）\n",
    "        return PCA(n_components=ld_n).fit_transform(df.values),label\n",
    "    return df,label\n",
    "\n",
    "def map_salary(s):\n",
    "    d=dict([('low',0),('medium',1),('high',2)])\n",
    "    return d.get(s,0)  # 将low,med,high分别赋值0,1,2，如果没有找到则赋值为0\n",
    "    \n",
    "print(hr_preprocessing(sl=True,le=True,ld_n=3))"
   ]
  },
  {
   "cell_type": "code",
   "execution_count": 75,
   "metadata": {},
   "outputs": [
    {
     "data": {
      "text/plain": [
       "array([[ 0.31868132],\n",
       "       [ 0.78021978],\n",
       "       [ 0.02197802],\n",
       "       ..., \n",
       "       [ 0.30769231],\n",
       "       [ 0.02197802],\n",
       "       [ 0.30769231]])"
      ]
     },
     "execution_count": 75,
     "metadata": {},
     "output_type": "execute_result"
    }
   ],
   "source": [
    "df=pd.read_csv('./data/HR.csv')\n",
    "df=df.dropna(subset=['satisfaction_level','last_evaluation'])\n",
    "df=df[df['satisfaction_level']<=1][df['salary']!='nme']\n",
    "MinMaxScaler().fit_transform(df['satisfaction_level'].values.reshape(-1,1))"
   ]
  },
  {
   "cell_type": "code",
   "execution_count": 81,
   "metadata": {},
   "outputs": [
    {
     "data": {
      "text/plain": [
       "array([ 0.38,  0.8 ,  0.11, ...,  0.37,  0.11,  0.37])"
      ]
     },
     "execution_count": 81,
     "metadata": {},
     "output_type": "execute_result"
    }
   ],
   "source": [
    "df['satisfaction_level'].values.reshape(-1,1).reshape(1,-1)[0]"
   ]
  }
 ],
 "metadata": {
  "kernelspec": {
   "display_name": "Python [conda env:py3.6]",
   "language": "python",
   "name": "conda-env-py3.6-py"
  },
  "language_info": {
   "codemirror_mode": {
    "name": "ipython",
    "version": 3
   },
   "file_extension": ".py",
   "mimetype": "text/x-python",
   "name": "python",
   "nbconvert_exporter": "python",
   "pygments_lexer": "ipython3",
   "version": "3.6.6"
  }
 },
 "nbformat": 4,
 "nbformat_minor": 2
}
