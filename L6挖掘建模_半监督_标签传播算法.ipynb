{
 "cells": [
  {
   "cell_type": "markdown",
   "metadata": {},
   "source": [
    "# 半监督学习\n",
    "## 标签传播算法\n",
    "<img src='./image/6.21_1.png' width=700 />\n",
    "<img src='./image/6.21_2.png' width=700 />  \n",
    "例子：  \n",
    "<img src='./image/6.21_3.png' width=700 />"
   ]
  },
  {
   "cell_type": "code",
   "execution_count": 10,
   "metadata": {},
   "outputs": [
    {
     "name": "stdout",
     "output_type": "stream",
     "text": [
      "[0 0 0 0 0 0 0 0 0 0 0 0 0 0 0 0 0 0 0 0 1 1 1 1 1 1 1 1 1 1 1 1 1 1 1 2 2\n",
      " 2 2 2 2 2 2 2 2 2 2 2 2 2 2 2 2]\n",
      "53\n",
      "Unlabeled Number: 53\n",
      "ACC: 0.9433962264150944\n"
     ]
    },
    {
     "ename": "ValueError",
     "evalue": "Target is multiclass but average='binary'. Please choose another average setting.",
     "output_type": "error",
     "traceback": [
      "\u001b[1;31m---------------------------------------------------------------------------\u001b[0m",
      "\u001b[1;31mValueError\u001b[0m                                Traceback (most recent call last)",
      "\u001b[1;32m<ipython-input-10-cd152195742a>\u001b[0m in \u001b[0;36m<module>\u001b[1;34m()\u001b[0m\n\u001b[0;32m     22\u001b[0m \u001b[1;33m\u001b[0m\u001b[0m\n\u001b[0;32m     23\u001b[0m \u001b[0mprint\u001b[0m\u001b[1;33m(\u001b[0m\u001b[1;34m'ACC:'\u001b[0m\u001b[1;33m,\u001b[0m\u001b[0maccuracy_score\u001b[0m\u001b[1;33m(\u001b[0m\u001b[0mY\u001b[0m\u001b[1;33m,\u001b[0m\u001b[0mY_pred\u001b[0m\u001b[1;33m)\u001b[0m\u001b[1;33m)\u001b[0m\u001b[1;33m\u001b[0m\u001b[0m\n\u001b[1;32m---> 24\u001b[1;33m \u001b[0mprint\u001b[0m\u001b[1;33m(\u001b[0m\u001b[1;34m'REC:'\u001b[0m\u001b[1;33m,\u001b[0m\u001b[0mrecall_score\u001b[0m\u001b[1;33m(\u001b[0m\u001b[0mY\u001b[0m\u001b[1;33m,\u001b[0m\u001b[0mY_pred\u001b[0m\u001b[1;33m)\u001b[0m\u001b[1;33m)\u001b[0m\u001b[1;33m\u001b[0m\u001b[0m\n\u001b[0m\u001b[0;32m     25\u001b[0m \u001b[0mprint\u001b[0m\u001b[1;33m(\u001b[0m\u001b[1;34m'F-Score:'\u001b[0m\u001b[1;33m,\u001b[0m\u001b[0mf1_score\u001b[0m\u001b[1;33m(\u001b[0m\u001b[0mY\u001b[0m\u001b[1;33m,\u001b[0m\u001b[0mY_pred\u001b[0m\u001b[1;33m)\u001b[0m\u001b[1;33m)\u001b[0m\u001b[1;33m\u001b[0m\u001b[0m\n",
      "\u001b[1;32mD:\\anaconda\\64bit\\envs\\py3.6\\lib\\site-packages\\sklearn\\metrics\\classification.py\u001b[0m in \u001b[0;36mrecall_score\u001b[1;34m(y_true, y_pred, labels, pos_label, average, sample_weight)\u001b[0m\n\u001b[0;32m   1357\u001b[0m                                                  \u001b[0maverage\u001b[0m\u001b[1;33m=\u001b[0m\u001b[0maverage\u001b[0m\u001b[1;33m,\u001b[0m\u001b[1;33m\u001b[0m\u001b[0m\n\u001b[0;32m   1358\u001b[0m                                                  \u001b[0mwarn_for\u001b[0m\u001b[1;33m=\u001b[0m\u001b[1;33m(\u001b[0m\u001b[1;34m'recall'\u001b[0m\u001b[1;33m,\u001b[0m\u001b[1;33m)\u001b[0m\u001b[1;33m,\u001b[0m\u001b[1;33m\u001b[0m\u001b[0m\n\u001b[1;32m-> 1359\u001b[1;33m                                                  sample_weight=sample_weight)\n\u001b[0m\u001b[0;32m   1360\u001b[0m     \u001b[1;32mreturn\u001b[0m \u001b[0mr\u001b[0m\u001b[1;33m\u001b[0m\u001b[0m\n\u001b[0;32m   1361\u001b[0m \u001b[1;33m\u001b[0m\u001b[0m\n",
      "\u001b[1;32mD:\\anaconda\\64bit\\envs\\py3.6\\lib\\site-packages\\sklearn\\metrics\\classification.py\u001b[0m in \u001b[0;36mprecision_recall_fscore_support\u001b[1;34m(y_true, y_pred, beta, labels, pos_label, average, warn_for, sample_weight)\u001b[0m\n\u001b[0;32m   1038\u001b[0m         \u001b[1;32melse\u001b[0m\u001b[1;33m:\u001b[0m\u001b[1;33m\u001b[0m\u001b[0m\n\u001b[0;32m   1039\u001b[0m             raise ValueError(\"Target is %s but average='binary'. Please \"\n\u001b[1;32m-> 1040\u001b[1;33m                              \"choose another average setting.\" % y_type)\n\u001b[0m\u001b[0;32m   1041\u001b[0m     \u001b[1;32melif\u001b[0m \u001b[0mpos_label\u001b[0m \u001b[1;32mnot\u001b[0m \u001b[1;32min\u001b[0m \u001b[1;33m(\u001b[0m\u001b[1;32mNone\u001b[0m\u001b[1;33m,\u001b[0m \u001b[1;36m1\u001b[0m\u001b[1;33m)\u001b[0m\u001b[1;33m:\u001b[0m\u001b[1;33m\u001b[0m\u001b[0m\n\u001b[0;32m   1042\u001b[0m         warnings.warn(\"Note that pos_label (set to %r) is ignored when \"\n",
      "\u001b[1;31mValueError\u001b[0m: Target is multiclass but average='binary'. Please choose another average setting."
     ]
    }
   ],
   "source": [
    "import numpy as np\n",
    "from sklearn import datasets\n",
    "from sklearn.semi_supervised import LabelPropagation\n",
    "from sklearn.metrics import accuracy_score,recall_score,f1_score\n",
    "\n",
    "iris=datasets.load_iris()\n",
    "labels=np.copy(iris.target)\n",
    "\n",
    "random_unlabeled_points=np.random.rand(len(iris.target))\n",
    "random_unlabeled_points=random_unlabeled_points<0.3\n",
    "Y=labels[random_unlabeled_points]\n",
    "labels[random_unlabeled_points]=-1\n",
    "\n",
    "print(Y)\n",
    "print(len(Y))\n",
    "print('Unlabeled Number:',list(labels).count(-1))\n",
    "\n",
    "label_prop_model=LabelPropagation()\n",
    "label_prop_model.fit(iris.data,labels)\n",
    "Y_pred=label_prop_model.predict(iris.data)\n",
    "Y_pred=Y_pred[random_unlabeled_points]\n",
    "\n",
    "print('ACC:',accuracy_score(Y,Y_pred))\n",
    "print('REC:',recall_score(Y,Y_pred))\n",
    "print('F-Score:',f1_score(Y,Y_pred))\n"
   ]
  },
  {
   "cell_type": "markdown",
   "metadata": {},
   "source": [
    "recall-score/f1-score部分报错，是因为默认只能比较二值序列。可以查看sklearn文档中的recall-score/f1-score，重置average。"
   ]
  },
  {
   "cell_type": "code",
   "execution_count": 11,
   "metadata": {},
   "outputs": [
    {
     "name": "stdout",
     "output_type": "stream",
     "text": [
      "[0 0 0 0 0 0 0 0 0 0 0 0 0 0 0 1 1 1 1 1 1 1 1 1 1 1 1 1 1 1 1 1 2 2 2 2 2\n",
      " 2 2 2 2 2 2 2 2 2 2 2]\n",
      "48\n",
      "Unlabeled Number: 48\n",
      "ACC: 0.9583333333333334\n",
      "REC: 0.9583333333333334\n",
      "F-Score: 0.9583333333333334\n"
     ]
    }
   ],
   "source": [
    "import numpy as np\n",
    "from sklearn import datasets\n",
    "from sklearn.semi_supervised import LabelPropagation\n",
    "from sklearn.metrics import accuracy_score,recall_score,f1_score\n",
    "\n",
    "iris=datasets.load_iris()\n",
    "labels=np.copy(iris.target)\n",
    "\n",
    "random_unlabeled_points=np.random.rand(len(iris.target))\n",
    "random_unlabeled_points=random_unlabeled_points<0.3\n",
    "Y=labels[random_unlabeled_points]\n",
    "labels[random_unlabeled_points]=-1\n",
    "\n",
    "print(Y)\n",
    "print(len(Y))\n",
    "print('Unlabeled Number:',list(labels).count(-1))\n",
    "\n",
    "label_prop_model=LabelPropagation()\n",
    "label_prop_model.fit(iris.data,labels)\n",
    "Y_pred=label_prop_model.predict(iris.data)\n",
    "Y_pred=Y_pred[random_unlabeled_points]\n",
    "\n",
    "print('ACC:',accuracy_score(Y,Y_pred))\n",
    "print('REC:',recall_score(Y,Y_pred,average='micro'))\n",
    "print('F-Score:',f1_score(Y,Y_pred,average='micro'))\n"
   ]
  },
  {
   "cell_type": "markdown",
   "metadata": {},
   "source": [
    "增加未标注样本的比例。"
   ]
  },
  {
   "cell_type": "code",
   "execution_count": 12,
   "metadata": {},
   "outputs": [
    {
     "name": "stdout",
     "output_type": "stream",
     "text": [
      "[0 0 0 0 0 0 0 0 0 0 0 0 0 0 0 0 0 0 0 0 0 0 0 0 0 0 0 0 0 0 0 0 0 0 0 0 0\n",
      " 0 0 1 1 1 1 1 1 1 1 1 1 1 1 1 1 1 1 1 1 1 1 1 1 1 1 1 1 1 1 1 1 1 1 2 2 2\n",
      " 2 2 2 2 2 2 2 2 2 2 2 2 2 2 2 2 2 2 2 2 2 2 2 2 2 2 2 2 2 2]\n",
      "104\n",
      "Unlabeled Number: 104\n",
      "ACC: 0.9711538461538461\n",
      "REC: 0.9711538461538461\n",
      "F-Score: 0.9711538461538461\n"
     ]
    }
   ],
   "source": [
    "import numpy as np\n",
    "from sklearn import datasets\n",
    "from sklearn.semi_supervised import LabelPropagation\n",
    "from sklearn.metrics import accuracy_score,recall_score,f1_score\n",
    "\n",
    "iris=datasets.load_iris()\n",
    "labels=np.copy(iris.target)\n",
    "\n",
    "random_unlabeled_points=np.random.rand(len(iris.target))\n",
    "random_unlabeled_points=random_unlabeled_points<0.7\n",
    "Y=labels[random_unlabeled_points]\n",
    "labels[random_unlabeled_points]=-1\n",
    "\n",
    "print(Y)\n",
    "print(len(Y))\n",
    "print('Unlabeled Number:',list(labels).count(-1))\n",
    "\n",
    "label_prop_model=LabelPropagation()\n",
    "label_prop_model.fit(iris.data,labels)\n",
    "Y_pred=label_prop_model.predict(iris.data)\n",
    "Y_pred=Y_pred[random_unlabeled_points]\n",
    "\n",
    "print('ACC:',accuracy_score(Y,Y_pred))\n",
    "print('REC:',recall_score(Y,Y_pred,average='micro'))\n",
    "print('F-Score:',f1_score(Y,Y_pred,average='micro'))\n"
   ]
  }
 ],
 "metadata": {
  "kernelspec": {
   "display_name": "Python [conda env:py3.6]",
   "language": "python",
   "name": "conda-env-py3.6-py"
  },
  "language_info": {
   "codemirror_mode": {
    "name": "ipython",
    "version": 3
   },
   "file_extension": ".py",
   "mimetype": "text/x-python",
   "name": "python",
   "nbconvert_exporter": "python",
   "pygments_lexer": "ipython3",
   "version": "3.6.6"
  }
 },
 "nbformat": 4,
 "nbformat_minor": 2
}
